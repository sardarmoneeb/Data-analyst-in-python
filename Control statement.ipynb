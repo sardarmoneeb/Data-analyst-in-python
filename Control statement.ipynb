{
 "cells": [
  {
   "cell_type": "markdown",
   "id": "3ae171c3-3045-4ac3-89ab-0eb2c08626aa",
   "metadata": {},
   "source": [
    "# Control starement"
   ]
  },
  {
   "cell_type": "markdown",
   "id": "9126b4ad-fcc5-4647-919f-6b61ae165011",
   "metadata": {},
   "source": [
    "if Statement"
   ]
  },
  {
   "cell_type": "markdown",
   "id": "3996eeb1-51bb-42ce-b657-88484f307cbf",
   "metadata": {},
   "source": [
    "write a program to take the marks of student?"
   ]
  },
  {
   "cell_type": "code",
   "execution_count": 2,
   "id": "297e31e0-f6b2-46ab-9058-2671fdfd38ab",
   "metadata": {},
   "outputs": [
    {
     "name": "stdin",
     "output_type": "stream",
     "text": [
      "Enter the marks of math 76\n",
      "Enter the marks of HCI 23\n",
      "Enter the marks of English 33\n",
      "Enter the marks of SDA 43\n",
      "Enter the marks of SCD 32\n"
     ]
    }
   ],
   "source": [
    "a = input(\"Enter your name\")\n",
    "b = int(input(\"Enter the marks of math\"))\n",
    "c = int(input(\"Enter the marks of HCI\"))\n",
    "d = int(input(\"Enter the marks of English\"))\n",
    "e = int(input(\"Enter the marks of SDA\"))\n",
    "f = int(input(\"Enter the marks of SCD\"))"
   ]
  },
  {
   "cell_type": "code",
   "execution_count": 15,
   "id": "65e9df68-71b9-44aa-98a6-160bec0f0117",
   "metadata": {},
   "outputs": [
    {
     "name": "stdin",
     "output_type": "stream",
     "text": [
      "Enter your name moneeb\n",
      "Enter the marks of math 87\n",
      "Enter the marks of HCI 89\n",
      "Enter the marks of English 87\n",
      "Enter the marks of SDA 78\n",
      "Enter the marks of SCD 98\n"
     ]
    },
    {
     "name": "stdout",
     "output_type": "stream",
     "text": [
      "The percentage of student is 87.8\n"
     ]
    }
   ],
   "source": [
    "a = input(\"Enter your name\")\n",
    "b = int(input(\"Enter the marks of math\"))\n",
    "c = int(input(\"Enter the marks of HCI\"))\n",
    "d = int(input(\"Enter the marks of English\"))\n",
    "e = int(input(\"Enter the marks of SDA\"))\n",
    "f = int(input(\"Enter the marks of SCD\"))\n",
    "#y = int(input(\"Enter the percentage of student\"))\n",
    "#if y>=90:\n",
    "   # print(\"A grade\")\n",
    "#if y>=75 and y<=90:\n",
    "    #print(\"B grade\")\n",
    "#if y>=50 and y<=75:\n",
    "    #print(\"C grade\")\n",
    "n = ((b+c+d+e+f)/500)*100\n",
    "print(\"The percentage of student is\",n)"
   ]
  },
  {
   "cell_type": "code",
   "execution_count": 12,
   "id": "be17b06d-ac0c-4e4e-b972-1f9fd0f4dcb7",
   "metadata": {},
   "outputs": [
    {
     "name": "stdin",
     "output_type": "stream",
     "text": [
      "Enter the percentage of student 54\n"
     ]
    },
    {
     "name": "stdout",
     "output_type": "stream",
     "text": [
      "C grade\n"
     ]
    }
   ],
   "source": [
    "a = int(input(\"Enter the percentage of student\"))\n",
    "if a>=90:\n",
    "    print(\"A grade\")\n",
    "if a>=75 and a<=90:\n",
    "    print(\"B grade\")\n",
    "if a>=50 and a<=75:\n",
    "    print(\"C grade\")"
   ]
  },
  {
   "cell_type": "code",
   "execution_count": 19,
   "id": "5ebcddda-a1a2-4212-8650-07abee04304f",
   "metadata": {},
   "outputs": [
    {
     "name": "stdin",
     "output_type": "stream",
     "text": [
      "Enter the percentage of student 78\n"
     ]
    },
    {
     "name": "stdout",
     "output_type": "stream",
     "text": [
      "B grade\n"
     ]
    }
   ],
   "source": [
    "a = int(input(\"Enter the percentage of student\"))\n",
    "if a>=90:\n",
    "    print(\"A grade\")\n",
    "if  a>=75 and a<=90:\n",
    "    print(\"B grade\")\n",
    "if  a>=50 and a<=75:\n",
    "    print(\"C grade\")\n"
   ]
  },
  {
   "cell_type": "markdown",
   "id": "60888a3c-d918-47e4-964d-7df8ee8c9235",
   "metadata": {},
   "source": [
    "# If else Statement"
   ]
  },
  {
   "cell_type": "markdown",
   "id": "0e0620f6-8065-46f0-94ca-3eb8800d85bb",
   "metadata": {},
   "source": [
    "write a program to display hello if number entered by a user is multiple of 10 else display by?"
   ]
  },
  {
   "cell_type": "code",
   "execution_count": 21,
   "id": "75d9a932-b0bb-4d68-b63e-2a03ea786f4d",
   "metadata": {},
   "outputs": [
    {
     "name": "stdin",
     "output_type": "stream",
     "text": [
      "Enter a number 56\n"
     ]
    },
    {
     "name": "stdout",
     "output_type": "stream",
     "text": [
      "Bye\n"
     ]
    }
   ],
   "source": [
    "a = int(input(\"Enter a number\"))\n",
    "if a%10==0:\n",
    "    print(\"Hello\")\n",
    "else:\n",
    "    print(\"Bye\")"
   ]
  },
  {
   "cell_type": "markdown",
   "id": "fdca4e4c-1e08-4149-9761-34da5356db04",
   "metadata": {},
   "source": [
    "Write a program to check either number is positive or negative?\n"
   ]
  },
  {
   "cell_type": "code",
   "execution_count": 22,
   "id": "94b54e93-0d79-4418-a653-ed4429affeec",
   "metadata": {},
   "outputs": [
    {
     "name": "stdin",
     "output_type": "stream",
     "text": [
      "Enter a number 89\n"
     ]
    },
    {
     "name": "stdout",
     "output_type": "stream",
     "text": [
      "Positive\n"
     ]
    }
   ],
   "source": [
    "x = int(input(\"Enter a number\"))\n",
    "if x>0:\n",
    "    print(\"Positive\")\n",
    "else:\n",
    "    print(\"Negative\")"
   ]
  },
  {
   "cell_type": "code",
   "execution_count": 25,
   "id": "64b3fbc4-5257-459a-a65f-6688417b61ba",
   "metadata": {},
   "outputs": [
    {
     "name": "stdin",
     "output_type": "stream",
     "text": [
      "Enter a number -1\n"
     ]
    },
    {
     "name": "stdout",
     "output_type": "stream",
     "text": [
      "Negative\n"
     ]
    }
   ],
   "source": [
    "x = int(input(\"Enter a number\"))\n",
    "if x>=0:\n",
    "    print(\"Positive\")\n",
    "else:\n",
    "    print(\"Negative\")"
   ]
  },
  {
   "cell_type": "markdown",
   "id": "9fffd464-e713-45be-80d5-c688d08cb496",
   "metadata": {},
   "source": [
    "# if-elif-else statement"
   ]
  },
  {
   "cell_type": "code",
   "execution_count": 29,
   "id": "9f4cbb99-d404-4295-9dfe-67cc5b3c2b77",
   "metadata": {},
   "outputs": [
    {
     "name": "stdin",
     "output_type": "stream",
     "text": [
      "Enter the name of city bagh\n"
     ]
    },
    {
     "name": "stdout",
     "output_type": "stream",
     "text": [
      "Please enter valid city name\n"
     ]
    }
   ],
   "source": [
    "city = input(\"Enter the name of city\")\n",
    "if city==\"Rawalakot\":\n",
    "    print(\"Masair Zinadabad\")\n",
    "elif city==\"Kotli\":\n",
    "    print(\"Burgers\")\n",
    "elif city==\"Dadyal\":\n",
    "    print(\"AC technician\")\n",
    "elif city==\"Palandri\":\n",
    "    print(\"Aman Kashmiri\")\n",
    "else:\n",
    "    print(\"Please enter valid city name\")"
   ]
  },
  {
   "cell_type": "markdown",
   "id": "fbb8cf99-3558-4ee0-9c90-5bee4edc8d54",
   "metadata": {},
   "source": [
    "# Practice for control sytatement"
   ]
  },
  {
   "cell_type": "code",
   "execution_count": 11,
   "id": "f9e6215d-cf87-410f-b65e-b15ec6dab95f",
   "metadata": {},
   "outputs": [
    {
     "name": "stdin",
     "output_type": "stream",
     "text": [
      "Enter the name of student moneeb\n",
      "Enter the roll no of student 7\n",
      "Enter the marks of HCI 24\n",
      "Enter the marks of SDA 34\n",
      "Enter the marks of DSA 24\n",
      "Enter the marks of SCD 34\n",
      "Enter the marks of Computer network 45\n"
     ]
    },
    {
     "name": "stdout",
     "output_type": "stream",
     "text": [
      "The percentage is 32.2\n",
      "You are fail.Work hard next time\n"
     ]
    }
   ],
   "source": [
    "x = (input(\"Enter the name of student\"))\n",
    "y = int(input(\"Enter the roll no of student\"))\n",
    "a = int(input(\"Enter the marks of HCI\"))\n",
    "b = int(input(\"Enter the marks of SDA\"))\n",
    "c = int(input(\"Enter the marks of DSA\"))\n",
    "d = int(input(\"Enter the marks of SCD\"))\n",
    "e = int(input(\"Enter the marks of Computer network\"))\n",
    "f = ((a+b+c+d+e)*100)/500\n",
    "print(\"The percentage is\",f)\n",
    "if f>=85:\n",
    "    print(\"A grade\")\n",
    "elif f>=70 and f<85:\n",
    "    print(\"B grade\")\n",
    "elif f>=55 and f<70:\n",
    "    print(\"C grade\")\n",
    "elif f>=35 and f<55:\n",
    "    print(\"D grade\")\n",
    "else:\n",
    "    print(\"You are fail.Work hard next time\")\n",
    "\n"
   ]
  },
  {
   "cell_type": "code",
   "execution_count": null,
   "id": "1ce311e7-fa6d-431d-ada9-dee4a0089ecb",
   "metadata": {},
   "outputs": [],
   "source": []
  }
 ],
 "metadata": {
  "kernelspec": {
   "display_name": "Python 3 (ipykernel)",
   "language": "python",
   "name": "python3"
  },
  "language_info": {
   "codemirror_mode": {
    "name": "ipython",
    "version": 3
   },
   "file_extension": ".py",
   "mimetype": "text/x-python",
   "name": "python",
   "nbconvert_exporter": "python",
   "pygments_lexer": "ipython3",
   "version": "3.11.7"
  }
 },
 "nbformat": 4,
 "nbformat_minor": 5
}
