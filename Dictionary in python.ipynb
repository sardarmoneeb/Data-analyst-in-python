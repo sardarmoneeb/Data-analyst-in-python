{
 "cells": [
  {
   "cell_type": "markdown",
   "id": "e83f21ee-19fa-4a84-b110-373237a326ae",
   "metadata": {},
   "source": [
    "# Dictionary  in python"
   ]
  },
  {
   "cell_type": "code",
   "execution_count": null,
   "id": "7eb2854a-597e-43a9-9355-02f98316c400",
   "metadata": {},
   "outputs": [],
   "source": [
    "a = {\n",
    "    \"Id\" : \"1234\",\n",
    "    \"color\":\"black\",\n",
    "     \"year\":2003\n",
    "}\n",
    "print(a)"
   ]
  },
  {
   "cell_type": "markdown",
   "id": "5b725c1a-1c9a-482a-a072-b9b6eb96c045",
   "metadata": {},
   "source": [
    "#  Dupliacation not allowed in Dictionary"
   ]
  },
  {
   "cell_type": "code",
   "execution_count": null,
   "id": "f8b22849-6787-45c3-ad2f-81c2c379ce9b",
   "metadata": {},
   "outputs": [],
   "source": [
    "a = {\n",
    "    \"Id\" : \"1234\",\n",
    "    \"color\":\"black\",\n",
    "     \"year\":2003 ,\n",
    "    \"year\": 2004\n",
    "}\n",
    "print(a)\n",
    "print(len(a))"
   ]
  },
  {
   "cell_type": "markdown",
   "id": "3cc789ba-9b51-4d17-8b99-22d3e4e4a0a6",
   "metadata": {},
   "source": [
    "# Mix data types"
   ]
  },
  {
   "cell_type": "code",
   "execution_count": 1,
   "id": "36ee11f2-a5f2-4eeb-9bf2-e6da5d5c00d0",
   "metadata": {},
   "outputs": [
    {
     "name": "stdout",
     "output_type": "stream",
     "text": [
      "{'Id': '1234', 'color': 'black', 'year': 2003, 'a': [1, 2, 3, 4, 5, 6, 7], 'b': (1.34, 5.6, 7.9), 'c': False}\n"
     ]
    }
   ],
   "source": [
    "a = {\n",
    "    \"Id\" : \"1234\",\n",
    "    \"color\":\"black\",\n",
    "     \"year\":2003 ,\n",
    "     \"a\" : [1,2,3,4,5,6,7],\n",
    "      \"b\" : (1.34,5.6,7.9),\n",
    "      \"c\" :False\n",
    "}\n",
    "print(a)"
   ]
  },
  {
   "cell_type": "markdown",
   "id": "81832e86-0ef9-469e-a4bb-6c5bb78b3754",
   "metadata": {},
   "source": [
    "# Acces items from dictionary"
   ]
  },
  {
   "cell_type": "code",
   "execution_count": 6,
   "id": "2afbb57c-35e7-4f08-8758-594384f8d361",
   "metadata": {},
   "outputs": [
    {
     "name": "stdout",
     "output_type": "stream",
     "text": [
      "moneeb\n"
     ]
    }
   ],
   "source": [
    "a = {\"name\" : \"moneeb\",\"Id\" : 7,\"Designation\" : \"Kotli\"}\n",
    "print(a[\"name\"])"
   ]
  },
  {
   "cell_type": "code",
   "execution_count": 7,
   "id": "32f4c458-7b6b-4d28-802c-b1d7fe02724f",
   "metadata": {},
   "outputs": [
    {
     "name": "stdout",
     "output_type": "stream",
     "text": [
      "7\n"
     ]
    }
   ],
   "source": [
    "a = {\"name\" : \"moneeb\",\"Id\" : 7,\"Designation\" : \"Kotli\"}\n",
    "print(a[\"Id\"])"
   ]
  },
  {
   "cell_type": "code",
   "execution_count": 12,
   "id": "cf2fbc44-e63e-4c07-98e4-9732ff0eeb3a",
   "metadata": {},
   "outputs": [
    {
     "name": "stdout",
     "output_type": "stream",
     "text": [
      "7\n"
     ]
    }
   ],
   "source": [
    "a = {\"name\" : \"moneeb\",\"Id\" : 7,\"Designation\" : \"Kotli\"}\n",
    "print(a.get(\"Id\"))"
   ]
  },
  {
   "cell_type": "code",
   "execution_count": 13,
   "id": "5df650a5-ed04-441a-b974-c54121b4d7cc",
   "metadata": {},
   "outputs": [
    {
     "data": {
      "text/plain": [
       "dict_keys(['name', 'Id', 'Designation'])"
      ]
     },
     "execution_count": 13,
     "metadata": {},
     "output_type": "execute_result"
    }
   ],
   "source": [
    "a = {\"name\" : \"moneeb\",\"Id\" : 7,\"Designation\" : \"Kotli\"}\n",
    "b = a.keys()\n",
    "b"
   ]
  },
  {
   "cell_type": "code",
   "execution_count": 14,
   "id": "5097a6b9-d7ef-4624-8cc2-c6e8ed2c304a",
   "metadata": {},
   "outputs": [
    {
     "data": {
      "text/plain": [
       "dict_values(['moneeb', 7, 'Kotli'])"
      ]
     },
     "execution_count": 14,
     "metadata": {},
     "output_type": "execute_result"
    }
   ],
   "source": [
    "a = {\"name\" : \"moneeb\",\"Id\" : 7,\"Designation\" : \"Kotli\"}\n",
    "b = a.values()\n",
    "b"
   ]
  },
  {
   "cell_type": "markdown",
   "id": "6e61a332-1729-4683-aabb-44b014332a02",
   "metadata": {},
   "source": [
    "# change value"
   ]
  },
  {
   "cell_type": "code",
   "execution_count": 15,
   "id": "caac81c4-28f3-4932-b8cc-2a626b878022",
   "metadata": {},
   "outputs": [
    {
     "name": "stdout",
     "output_type": "stream",
     "text": [
      "{'name': 'moneeb', 'Id': 8, 'Designation': 'Kotli'}\n"
     ]
    }
   ],
   "source": [
    "a = {\"name\" : \"moneeb\",\"Id\" : 7,\"Designation\" : \"Kotli\"}\n",
    "a[\"Id\"] = 8\n",
    "print(a)"
   ]
  },
  {
   "cell_type": "markdown",
   "id": "e23fc433-9852-406e-8244-e6b78a51507c",
   "metadata": {},
   "source": [
    "# add value"
   ]
  },
  {
   "cell_type": "code",
   "execution_count": 16,
   "id": "ec774d5a-6567-4d13-b470-bb2e9e3a397b",
   "metadata": {},
   "outputs": [
    {
     "name": "stdout",
     "output_type": "stream",
     "text": [
      "{'name': 'moneeb', 'Id': 7, 'Designation': 'Kotli', 'E mail': 'sardarmoneeb001@gmail.com'}\n"
     ]
    }
   ],
   "source": [
    "a = {\"name\" : \"moneeb\",\"Id\" : 7,\"Designation\" : \"Kotli\"}\n",
    "a.update({\"E mail\" : \"sardarmoneeb001@gmail.com\"})\n",
    "print(a)"
   ]
  },
  {
   "cell_type": "markdown",
   "id": "8a70ccf1-d282-4d4d-8bdc-2377e722ce34",
   "metadata": {},
   "source": [
    "# Remove value"
   ]
  },
  {
   "cell_type": "code",
   "execution_count": 17,
   "id": "e3ddd9e6-7e2c-4720-8d0f-b46fb1d16817",
   "metadata": {},
   "outputs": [
    {
     "name": "stdout",
     "output_type": "stream",
     "text": [
      "{'Id': 7, 'Designation': 'Kotli'}\n"
     ]
    }
   ],
   "source": [
    "a = {\"name\" : \"moneeb\",\"Id\" : 7,\"Designation\" : \"Kotli\"}\n",
    "a.pop(\"name\")\n",
    "print(a)"
   ]
  },
  {
   "cell_type": "code",
   "execution_count": 18,
   "id": "6d944cfe-211c-4d8f-ba91-b70fe5e894a5",
   "metadata": {},
   "outputs": [
    {
     "name": "stdout",
     "output_type": "stream",
     "text": [
      "{'Id': 7, 'Designation': 'Kotli'}\n"
     ]
    }
   ],
   "source": [
    "a = {\"name\" : \"moneeb\",\"Id\" : 7,\"Designation\" : \"Kotli\"}\n",
    "del a[\"name\"]\n",
    "print(a)"
   ]
  },
  {
   "cell_type": "markdown",
   "id": "ca2dccac-8405-4ef8-9077-1ebbe0f25659",
   "metadata": {},
   "source": [
    "# concatenate different dictionaries"
   ]
  },
  {
   "cell_type": "code",
   "execution_count": 23,
   "id": "05db1f31-7e42-4f00-a317-c7ceb570f694",
   "metadata": {},
   "outputs": [
    {
     "name": "stdout",
     "output_type": "stream",
     "text": [
      "{1: 10, 2: 20, 3: 30, 4: 40}\n"
     ]
    }
   ],
   "source": [
    "dic_1 = {1:10,2:20}\n",
    "dic_2 = {3:30,4:40}\n",
    "dic_3= {}\n",
    "for d in (dic_1,dic_2): dic_3.update(d)\n",
    "print(dic_3)"
   ]
  },
  {
   "cell_type": "markdown",
   "id": "cb6594a9-64ae-49d5-96a9-407dd37803c3",
   "metadata": {},
   "source": [
    "# write a program to check a given key already exist in dictionary?"
   ]
  },
  {
   "cell_type": "code",
   "execution_count": 26,
   "id": "4d4843ba-c6e0-4a13-9496-83f73620b7ff",
   "metadata": {},
   "outputs": [
    {
     "name": "stdout",
     "output_type": "stream",
     "text": [
      "The key 'name' exists in the dictionary.\n"
     ]
    }
   ],
   "source": [
    "# Example dictionary\n",
    "example_dict = {\n",
    "    \"name\": \"Alice\",\n",
    "    \"age\": 25,\n",
    "    \"city\": \"New York\"\n",
    "}\n",
    "\n",
    "# Key to check\n",
    "key_to_check = \"name\"\n",
    "\n",
    "# Check if the key exists in the dictionary\n",
    "if key_to_check in example_dict:\n",
    "    print(f\"The key '{key_to_check}' exists in the dictionary.\")\n",
    "else:\n",
    "    print(f\"The key '{key_to_check}' does not exist in the dictionary.\")\n"
   ]
  },
  {
   "cell_type": "markdown",
   "id": "b2d1389f-912d-4351-8033-494bf5abe89c",
   "metadata": {},
   "source": [
    "# Square of anumber"
   ]
  },
  {
   "cell_type": "code",
   "execution_count": 28,
   "id": "b22b164b-2543-4d37-b330-a5be01aebc11",
   "metadata": {},
   "outputs": [
    {
     "name": "stdout",
     "output_type": "stream",
     "text": [
      "{1: 1, 2: 4, 3: 9, 4: 16, 5: 25, 6: 36, 7: 49, 8: 64, 9: 81, 10: 100, 11: 121, 12: 144, 13: 169, 14: 196, 15: 225}\n"
     ]
    }
   ],
   "source": [
    "d = {}\n",
    "for i in range(1,16):\n",
    "    d[i] = i**2\n",
    "print(d)"
   ]
  },
  {
   "cell_type": "code",
   "execution_count": null,
   "id": "1dda1f08-b395-4e59-9f20-3e27a4b5a240",
   "metadata": {},
   "outputs": [],
   "source": []
  }
 ],
 "metadata": {
  "kernelspec": {
   "display_name": "Python 3 (ipykernel)",
   "language": "python",
   "name": "python3"
  },
  "language_info": {
   "codemirror_mode": {
    "name": "ipython",
    "version": 3
   },
   "file_extension": ".py",
   "mimetype": "text/x-python",
   "name": "python",
   "nbconvert_exporter": "python",
   "pygments_lexer": "ipython3",
   "version": "3.11.7"
  }
 },
 "nbformat": 4,
 "nbformat_minor": 5
}
