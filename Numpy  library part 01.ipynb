{
 "cells": [
  {
   "cell_type": "code",
   "execution_count": 1,
   "id": "eb87001a-81ae-45ea-9d8e-cca629f86245",
   "metadata": {},
   "outputs": [],
   "source": [
    "import numpy as np"
   ]
  },
  {
   "cell_type": "code",
   "execution_count": 2,
   "id": "902dbf6f-cd74-441b-b538-75fa1ebc183b",
   "metadata": {},
   "outputs": [
    {
     "name": "stdout",
     "output_type": "stream",
     "text": [
      "[1.   2.   3.4  7.66]\n",
      "<class 'numpy.ndarray'>\n"
     ]
    }
   ],
   "source": [
    "arr = np.array([1,2,3.4,7.66])\n",
    "print(arr)\n",
    "print(type(arr))"
   ]
  },
  {
   "cell_type": "code",
   "execution_count": 7,
   "id": "78633cf2-0865-4ab0-82dd-6f2d9bc5a8ee",
   "metadata": {},
   "outputs": [
    {
     "name": "stdout",
     "output_type": "stream",
     "text": [
      "['hello' 'class' '87' '9.99' '7']\n",
      "5\n",
      "<class 'numpy.ndarray'>\n"
     ]
    }
   ],
   "source": [
    "arr = np.array((\"hello\",\"class\",87,9.99,7))\n",
    "print(arr)\n",
    "print(len(arr))\n",
    "print(type(arr))"
   ]
  },
  {
   "cell_type": "code",
   "execution_count": 6,
   "id": "bbd2534b-1bba-4ed8-a6c3-437ce801d3fd",
   "metadata": {},
   "outputs": [
    {
     "name": "stdout",
     "output_type": "stream",
     "text": [
      "{'name': 'moneeeb', 'roll no': '07'}\n",
      "<class 'numpy.ndarray'>\n"
     ]
    }
   ],
   "source": [
    "arr = np.array({\"name\":\"moneeeb\",\"roll no\":\"07\"})\n",
    "print(arr)\n",
    "print(type(arr))"
   ]
  },
  {
   "cell_type": "markdown",
   "id": "4cd5a33f-fbc5-4283-97ed-0be42cb19955",
   "metadata": {},
   "source": [
    "# Dimensions in array"
   ]
  },
  {
   "cell_type": "markdown",
   "id": "c6de6772-a111-4418-9b82-5374afc94dc9",
   "metadata": {},
   "source": [
    "# Zero dimension"
   ]
  },
  {
   "cell_type": "code",
   "execution_count": 13,
   "id": "937d85cf-c321-480d-85da-675d7c7386b2",
   "metadata": {},
   "outputs": [
    {
     "name": "stdout",
     "output_type": "stream",
     "text": [
      "65\n",
      "The dimension is 0\n"
     ]
    }
   ],
   "source": [
    "arr = np.array(65)\n",
    "print(arr)\n",
    "print(\"The dimension is\",arr.ndim)"
   ]
  },
  {
   "cell_type": "markdown",
   "id": "84903542-b544-4c59-ba34-408605e76b42",
   "metadata": {},
   "source": [
    "# One dimension"
   ]
  },
  {
   "cell_type": "code",
   "execution_count": 12,
   "id": "ef53f300-3458-4472-a34a-2417212f1c47",
   "metadata": {},
   "outputs": [
    {
     "name": "stdout",
     "output_type": "stream",
     "text": [
      "[1 2 3 4 5 6 7 8]\n",
      "The dimension is 1\n"
     ]
    }
   ],
   "source": [
    "arr = np.array([1,2,3,4,5,6,7,8])\n",
    "print(arr)\n",
    "print(\"The dimension is\",arr.ndim)"
   ]
  },
  {
   "cell_type": "markdown",
   "id": "ee4f15b2-5f1d-4f79-8f99-08bb7d29dea0",
   "metadata": {},
   "source": [
    "# Two dimension"
   ]
  },
  {
   "cell_type": "code",
   "execution_count": 14,
   "id": "bc71aa11-efb8-4356-8908-dea653e2134f",
   "metadata": {},
   "outputs": [
    {
     "name": "stdout",
     "output_type": "stream",
     "text": [
      "[[  1.     2.3    5.6 ]\n",
      " [ 87.     9.99 100.  ]]\n",
      "2\n"
     ]
    }
   ],
   "source": [
    "arr = np.array([[1,2.3,5.6],[87,9.99,100]])\n",
    "print(arr)\n",
    "print(arr.ndim)"
   ]
  },
  {
   "cell_type": "markdown",
   "id": "96f4e38b-b381-4c32-acae-3dcc983cf9c1",
   "metadata": {},
   "source": [
    "# Three dimensional"
   ]
  },
  {
   "cell_type": "code",
   "execution_count": 20,
   "id": "7ea57d94-ce09-4d93-8d17-babd6f3d8d0c",
   "metadata": {},
   "outputs": [
    {
     "name": "stdout",
     "output_type": "stream",
     "text": [
      "[[[ 1  2  3  4]\n",
      "  [ 5  6  7  8]\n",
      "  [11 22 33 44]\n",
      "  [55 66 77 88]]]\n",
      "The dimension is 3\n"
     ]
    }
   ],
   "source": [
    "arr = np.array([[[1,2,3,4],[5,6,7,8],[11,22,33,44],[55,66,77,88]]])\n",
    "print(arr)\n",
    "print(\"The dimension is\",arr.ndim)"
   ]
  },
  {
   "cell_type": "markdown",
   "id": "18e499b5-0d3a-4c5e-8c67-8962c019e46d",
   "metadata": {},
   "source": [
    "# 6 dimensional"
   ]
  },
  {
   "cell_type": "code",
   "execution_count": 26,
   "id": "d7fa58d4-a2e1-43de-9443-ac10aefdde82",
   "metadata": {},
   "outputs": [
    {
     "name": "stdout",
     "output_type": "stream",
     "text": [
      "[[[[[[1 2 3 4]]]]]]\n",
      "6\n"
     ]
    }
   ],
   "source": [
    "arr = np.array([1,2,3,4],ndmin = 6)\n",
    "print(arr)\n",
    "print(arr.ndim)"
   ]
  },
  {
   "cell_type": "markdown",
   "id": "aed47d68-9a83-47e1-b120-fe149684599c",
   "metadata": {},
   "source": [
    "# numpy array indexing"
   ]
  },
  {
   "cell_type": "code",
   "execution_count": 39,
   "id": "207a5275-8172-483d-a548-3cb55e1d19a7",
   "metadata": {},
   "outputs": [
    {
     "name": "stdout",
     "output_type": "stream",
     "text": [
      "1\n"
     ]
    }
   ],
   "source": [
    "arr = np.array([1,2,3,45])\n",
    "print(arr[0])"
   ]
  },
  {
   "cell_type": "code",
   "execution_count": 34,
   "id": "6dfd167e-f6c9-4f79-b281-f08d784df03e",
   "metadata": {},
   "outputs": [
    {
     "name": "stdout",
     "output_type": "stream",
     "text": [
      "45\n",
      "The dimension is 1\n"
     ]
    }
   ],
   "source": [
    "arr = np.array([1,2,3,45])\n",
    "print(arr[3])\n",
    "print(\"The dimension is\",arr.ndim)"
   ]
  },
  {
   "cell_type": "markdown",
   "id": "304dc56c-fffa-4530-aa3a-80d6a4bd48f4",
   "metadata": {},
   "source": [
    "# Get third,sixth and eight element from the following array and add them?"
   ]
  },
  {
   "cell_type": "code",
   "execution_count": 40,
   "id": "129378e9-41f8-4c20-aafe-718bee71f9a5",
   "metadata": {},
   "outputs": [
    {
     "name": "stdout",
     "output_type": "stream",
     "text": [
      "34.0\n",
      "90.0\n",
      "10.0\n",
      "Sum of these elements are 134.0\n"
     ]
    }
   ],
   "source": [
    "arr = np.array([41,87,34,56.8,39.23,90,15,10,19,56])\n",
    "print(arr[2])\n",
    "print(arr[5])\n",
    "print(arr[7])\n",
    "print(\"Sum of these elements are\",arr[2]+arr[5]+arr[7])"
   ]
  },
  {
   "cell_type": "markdown",
   "id": "077bc3cf-7d0d-46ad-afee-17a42504fd6d",
   "metadata": {},
   "source": [
    "# Indexing of second dimension"
   ]
  },
  {
   "cell_type": "code",
   "execution_count": 45,
   "id": "788fb3ab-d63d-4560-a49d-1631acddf70f",
   "metadata": {},
   "outputs": [
    {
     "name": "stdout",
     "output_type": "stream",
     "text": [
      "2\n",
      "The dimension is 2\n"
     ]
    }
   ],
   "source": [
    "arr = np.array([[1,2,3,45],[11,22,33,44]]) # first indexing we use 0 and second dimension we use 1:\n",
    "print(arr[0,1])\n",
    "print(\"The dimension is\",arr.ndim)"
   ]
  },
  {
   "cell_type": "markdown",
   "id": "c1d236aa-1b4e-4338-a082-f657f29a441c",
   "metadata": {},
   "source": [
    "arr = np.array([[1,2,3,45],[11,22,33,44]]) # first indexing we use 0 and second dimension we use 1:\n",
    "print(arr[1,2])\n",
    "print(\"The dimension is\",arr.ndim)"
   ]
  },
  {
   "cell_type": "code",
   "execution_count": 44,
   "id": "0b530d8d-0d67-489c-8ee5-bc3b024e22f9",
   "metadata": {},
   "outputs": [
    {
     "name": "stdout",
     "output_type": "stream",
     "text": [
      "35\n"
     ]
    }
   ],
   "source": [
    "print(arr[0,1]+arr[1,2])"
   ]
  },
  {
   "cell_type": "markdown",
   "id": "f18efed5-44bd-41e0-9374-74a15116182b",
   "metadata": {},
   "source": [
    "# Indexing of third dimensional array"
   ]
  },
  {
   "cell_type": "code",
   "execution_count": 62,
   "id": "920939e6-63ae-47d5-b3c1-fad5bc5bdf6f",
   "metadata": {},
   "outputs": [
    {
     "name": "stdout",
     "output_type": "stream",
     "text": [
      "1\n"
     ]
    }
   ],
   "source": [
    "arr = np.array([[[1,2,3,4],[5,6,7,8]],[[11,22,33,44],[55,66,77,88]]])\n",
    "print(arr[0,0,0])"
   ]
  },
  {
   "cell_type": "code",
   "execution_count": 60,
   "id": "4dfb51df-746e-413e-82f0-a31496693984",
   "metadata": {},
   "outputs": [
    {
     "name": "stdout",
     "output_type": "stream",
     "text": [
      "6\n"
     ]
    }
   ],
   "source": [
    "arr = np.array([[[1,2,3,4],[5,6,7,8]],[[11,22,33,44],[55,66,77,88]]])\n",
    "print(arr[0,1,1])"
   ]
  },
  {
   "cell_type": "code",
   "execution_count": 61,
   "id": "454a2337-bbb6-4061-a79b-b3ed1aecffb3",
   "metadata": {},
   "outputs": [
    {
     "name": "stdout",
     "output_type": "stream",
     "text": [
      "22\n"
     ]
    }
   ],
   "source": [
    "arr = np.array([[[1,2,3,4],[5,6,7,8]],[[11,22,33,44],[55,66,77,88]]])\n",
    "print(arr[1,0,1])"
   ]
  },
  {
   "cell_type": "code",
   "execution_count": 63,
   "id": "420c80a4-832e-48b0-9d9d-1f3306a24a6b",
   "metadata": {},
   "outputs": [
    {
     "name": "stdout",
     "output_type": "stream",
     "text": [
      "88\n"
     ]
    }
   ],
   "source": [
    "arr = np.array([[[1,2,3,4],[5,6,7,8]],[[11,22,33,44],[55,66,77,88]]])\n",
    "print(arr[1,1,3])"
   ]
  },
  {
   "cell_type": "code",
   "execution_count": 65,
   "id": "138f72fd-bf8c-4241-88ff-6aa2f1ece812",
   "metadata": {},
   "outputs": [
    {
     "name": "stdout",
     "output_type": "stream",
     "text": [
      "117\n"
     ]
    }
   ],
   "source": [
    "print(arr[0,0,0]+arr[0,1,1]+arr[1,0,1,]+arr[1,1,3])"
   ]
  },
  {
   "cell_type": "code",
   "execution_count": null,
   "id": "ad4c735d-8077-4bcb-8a37-7129b56019e1",
   "metadata": {},
   "outputs": [],
   "source": []
  }
 ],
 "metadata": {
  "kernelspec": {
   "display_name": "Python 3 (ipykernel)",
   "language": "python",
   "name": "python3"
  },
  "language_info": {
   "codemirror_mode": {
    "name": "ipython",
    "version": 3
   },
   "file_extension": ".py",
   "mimetype": "text/x-python",
   "name": "python",
   "nbconvert_exporter": "python",
   "pygments_lexer": "ipython3",
   "version": "3.11.7"
  }
 },
 "nbformat": 4,
 "nbformat_minor": 5
}
