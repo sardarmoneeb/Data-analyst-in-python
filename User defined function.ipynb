{
 "cells": [
  {
   "cell_type": "markdown",
   "id": "87e95a32-7f7a-4227-8ec6-3d56114436d8",
   "metadata": {},
   "source": [
    "# User defined Function"
   ]
  },
  {
   "cell_type": "markdown",
   "id": "ddab2ae6-538d-4139-a75c-770b7bf49375",
   "metadata": {},
   "source": [
    "# Creating User defined function"
   ]
  },
  {
   "cell_type": "code",
   "execution_count": null,
   "id": "1d7b6b25-735c-4163-b5ad-c88eea5a90a5",
   "metadata": {},
   "outputs": [],
   "source": [
    "def my_function():\n",
    "    print(\"Assalamualikum Everyone\")"
   ]
  },
  {
   "cell_type": "markdown",
   "id": "e81689b5-25e6-4859-839f-ef106ba2704b",
   "metadata": {},
   "source": [
    "# Calling a function"
   ]
  },
  {
   "cell_type": "code",
   "execution_count": null,
   "id": "859cc04d-841c-486c-adcc-b714ee6840c9",
   "metadata": {},
   "outputs": [],
   "source": [
    "my_function()"
   ]
  },
  {
   "cell_type": "markdown",
   "id": "dc470cbc-2d1a-4f69-99e4-97c32b2177c6",
   "metadata": {},
   "source": [
    "# Making the result of students"
   ]
  },
  {
   "cell_type": "code",
   "execution_count": null,
   "id": "7a299259-e034-4ab7-a45d-9c285535c5be",
   "metadata": {},
   "outputs": [],
   "source": [
    "def contact():\n",
    "    print(\"Contact details of Board\")\n",
    "    print(\"AJK mirpur board\")\n",
    "    print(\"Muzaffarabad\")\n",
    "    print(\"098-7676677799\")\n",
    "    print(\"ajkbord@gmail.com\")\n",
    "for i in range(3):\n",
    "    a = input(\"Enter student name\")\n",
    "    b = int(input(\"Enter the marks of Computer\"))\n",
    "    c = int(input(\"Enter the marks of Math\"))\n",
    "    d = int(input(\"Enter the marks of English\"))\n",
    "    e = int(input(\"Enter the marks of Physics\"))\n",
    "    print()\n",
    "    contact()"
   ]
  },
  {
   "cell_type": "code",
   "execution_count": null,
   "id": "c74e6b97-66a5-47c1-865f-64c87871cc9e",
   "metadata": {},
   "outputs": [],
   "source": [
    "def my_func():\n",
    "    n = 10\n",
    "    i = 1\n",
    "    for i in range(1,11):\n",
    "        print(f\"{n} * {i} : {n*i}\")\n",
    "my_func()"
   ]
  },
  {
   "cell_type": "code",
   "execution_count": null,
   "id": "46ba4aa7-9dec-4d4e-b6bf-0bc7b56c0f67",
   "metadata": {},
   "outputs": [],
   "source": [
    "def my_fun():\n",
    "    n = 6\n",
    "    factorial = 1\n",
    "    for i in range(1,n+1):\n",
    "         factorial*=i\n",
    "    print(f\"{n} : {factorial}\")\n",
    "my_fun()"
   ]
  },
  {
   "cell_type": "markdown",
   "id": "b03e7511-df0f-4828-aa0a-4b969554eb2c",
   "metadata": {},
   "source": [
    "# Arguments"
   ]
  },
  {
   "cell_type": "code",
   "execution_count": null,
   "id": "803b70f4-1b0a-4982-b87d-ad871872ccd3",
   "metadata": {},
   "outputs": [],
   "source": [
    "def myfunc(fname):\n",
    "    print(fname + \" \" + \"sharma\")\n",
    "myfunc(\"Rohit\")"
   ]
  },
  {
   "cell_type": "code",
   "execution_count": null,
   "id": "b122e1d2-5f26-46af-9346-f6c33b1ece84",
   "metadata": {},
   "outputs": [],
   "source": [
    "def myfunction(fname, lname):\n",
    "    print(fname + \" \" + lname)\n",
    "myfunction(\"virat\",\"kohli\")"
   ]
  },
  {
   "cell_type": "code",
   "execution_count": null,
   "id": "7d45d6e9-68ce-4004-b0c5-9bc5ee8b7028",
   "metadata": {},
   "outputs": [],
   "source": [
    "def myfun(fname):\n",
    "    print(fname + \" \" + \"Azam\")\n",
    "myfun(\"Babar\")"
   ]
  },
  {
   "cell_type": "code",
   "execution_count": null,
   "id": "e8f1d9ac-43b7-43b4-acd3-1d4811860749",
   "metadata": {},
   "outputs": [],
   "source": [
    "def myfunc(midname):\n",
    "    print(\"King\"+ \" \" + midname + \" \" + \"Azam\")\n",
    "myfunc(\"Babar\")"
   ]
  },
  {
   "cell_type": "markdown",
   "id": "de4d1e51-f124-4ae6-a0d7-ae2086f2c00a",
   "metadata": {},
   "source": [
    "# Write a program to calculate the electricity bill\n",
    "# if 500 unit used - pay RS 5 for each unit\n",
    "#  if 700 unit used - pay RS 7 for each unit\n",
    "#  if 1000 unit used - pay RS 10 for each unit\n",
    "# if more than 1000 unit used- pay RS 20 for each unit"
   ]
  },
  {
   "cell_type": "code",
   "execution_count": null,
   "id": "aa24e520-8a63-490b-9e9e-0df7eaebb93f",
   "metadata": {},
   "outputs": [],
   "source": [
    "def electricity_bill(n):\n",
    "    if n <= 500:\n",
    "        print(\"Your Bill is RS\", n * 5)\n",
    "    elif 500 < n <= 700:\n",
    "        print(\"Your Bill is RS\", n * 7)\n",
    "    elif 700 < n <= 1000:\n",
    "        print(\"Your Bill is RS\", n * 10)\n",
    "    elif n > 1000:\n",
    "        print(\"Your Bill is RS\", n * 20)\n",
    "def instructions():\n",
    "    print()\n",
    "    print(\"Last date of submit bill is 7 july\")\n",
    "    print(\"After due date 10 percent extra charged\")\n",
    "    print(\"Hajira grid station\")\n",
    "    print(\"electricty@gmail.com\")\n",
    "    print()\n",
    "for i in range(2):\n",
    "    a = input(\"Enter name of user: \")\n",
    "    b = int(input(\"Enter units that you have used: \"))\n",
    "    electricity_bill(b)\n",
    "    instructions()\n"
   ]
  },
  {
   "cell_type": "code",
   "execution_count": null,
   "id": "d0a6c3ec-a1a7-454a-a4d7-40424d881989",
   "metadata": {},
   "outputs": [],
   "source": [
    "def greet(name):\n",
    "    print(\"Hello,\" + \" \" + name)\n",
    "greet(\"Alice!\")"
   ]
  },
  {
   "cell_type": "markdown",
   "id": "48552732-188d-43e3-9fda-af11cf94739d",
   "metadata": {},
   "source": [
    "# Write a function add that takes two numbers as arguments and returns their sum."
   ]
  },
  {
   "cell_type": "code",
   "execution_count": null,
   "id": "dac4c657-6e48-4715-8cf7-fbcafd2d798a",
   "metadata": {},
   "outputs": [],
   "source": [
    "def add(a, b):\n",
    "    return a + b\n",
    "\n",
    "# Example usage:\n",
    "result = add(5, 3)\n",
    "print(\"Sum:\", result)  # Output should be: Sum: 8\n"
   ]
  },
  {
   "cell_type": "markdown",
   "id": "8243227b-3228-496c-8fc3-98eafe4acc92",
   "metadata": {},
   "source": [
    "# Create a function square that takes a number as an argument and returns its square."
   ]
  },
  {
   "cell_type": "code",
   "execution_count": null,
   "id": "b9e5f59f-0f3a-48e0-9f36-e3b942eacb7b",
   "metadata": {},
   "outputs": [],
   "source": [
    "def square(n):\n",
    "    return n*n\n",
    "result = square(5*5)\n",
    "print(\"Square\",result)"
   ]
  },
  {
   "cell_type": "markdown",
   "id": "6d54a479-ab5d-49dc-b87e-fd49bd0c45af",
   "metadata": {},
   "source": [
    "# Write a function max_of_two that takes two numbers as arguments and returns the larger of the two."
   ]
  },
  {
   "cell_type": "code",
   "execution_count": null,
   "id": "4e8afe23-f960-48b8-8d29-e71fc33bdf2f",
   "metadata": {},
   "outputs": [],
   "source": [
    "def max_of_two(a, b):\n",
    "    if a<b:\n",
    "        print(\"Maximum of two\",b)\n",
    "    elif a>b:\n",
    "        print(\"Maximum of two\",a)\n",
    "result = max_of_two(20,10)\n",
    "#print(\"Maximum of two\",result)"
   ]
  },
  {
   "cell_type": "markdown",
   "id": "c60fef89-a842-4f4b-9805-4d4b9d7d0e83",
   "metadata": {},
   "source": [
    "# Define a function factorial that calculates the factorial of a given number."
   ]
  },
  {
   "cell_type": "code",
   "execution_count": null,
   "id": "b214b8fa-9682-4138-b8d7-c8b75171e012",
   "metadata": {},
   "outputs": [],
   "source": [
    "def factorial(n):\n",
    "    if n < 0:\n",
    "        return \"Factorial is not defined for negative numbers\"\n",
    "    elif n == 0 or n == 1:\n",
    "        return 1\n",
    "    else:\n",
    "        return n * factorial(n - 1)\n",
    "\n",
    "# Example usage:\n",
    "result = factorial(6)\n",
    "print(\"Factorial:\", result)  # Output should be: Factorial: 120\n"
   ]
  },
  {
   "cell_type": "markdown",
   "id": "11ece73d-f25e-47c4-9b89-28c835158cf0",
   "metadata": {},
   "source": [
    "# Define a function list_operations that takes a list of numbers and returns a tuple containing the minimum, maximum, and sum of the numbers in the list."
   ]
  },
  {
   "cell_type": "code",
   "execution_count": null,
   "id": "ada03980-073c-4504-973b-c170f6932b45",
   "metadata": {},
   "outputs": [],
   "source": [
    "def list_operations(numbers):\n",
    "    if not numbers:\n",
    "        return None  # Return None if the list is empty\n",
    "    \n",
    "    min_number = min(numbers)\n",
    "    max_number = max(numbers)\n",
    "    sum_numbers = sum(numbers)\n",
    "    \n",
    "    return (min_number, max_number, sum_numbers)\n",
    "\n",
    "# Example usage:\n",
    "numbers_list = [3, 1, 4, 1, 5, 9, 2, 6, 5]\n",
    "result = list_operations(numbers_list)\n",
    "print(\"Minimum, Maximum, Sum:\", result)  # Output should be: Minimum, Maximum, Sum: (1, 9, 36)\n"
   ]
  },
  {
   "cell_type": "markdown",
   "id": "e2e683fb-7908-423b-8eb5-0c237caa307e",
   "metadata": {},
   "source": [
    "# Write a function celsius_to_fahrenheit that converts a temperature from Celsius to Fahrenheit."
   ]
  },
  {
   "cell_type": "code",
   "execution_count": null,
   "id": "1dc71955-8aed-47a8-a5a3-c5e5bcda65dc",
   "metadata": {},
   "outputs": [],
   "source": [
    "def celsius_to_fahrenheit(celsius):\n",
    "    fahrenheit = (celsius * 9/5) + 32\n",
    "    return fahrenheit\n",
    "\n",
    "# Example usage:\n",
    "celsius_temp = 25\n",
    "fahrenheit_temp = celsius_to_fahrenheit(celsius_temp)\n",
    "print(f\"{celsius_temp} degrees Celsius is equal to {fahrenheit_temp} degrees Fahrenheit\")\n"
   ]
  },
  {
   "cell_type": "code",
   "execution_count": null,
   "id": "4b3719b5-78fb-4cc0-8f88-2a5b11cfb3e1",
   "metadata": {},
   "outputs": [],
   "source": [
    "def celcius_to_fahrenheit(celsius):\n",
    "    fahrenheit = (celcius * 9/5) +32\n",
    "    return fahrenheit\n",
    "celcius_temp  = 20\n",
    "fahrenheit_temp = celsius_to_fahrenheit(celcius_temp)\n",
    "print(f\"{celcius_temp} degree celcius equal to {fahrenheit_temp} dgrees farenheit\")"
   ]
  },
  {
   "cell_type": "markdown",
   "id": "622d2c28-cf83-4e34-a18c-2754a67a3aa2",
   "metadata": {},
   "source": [
    "# Write a function fahrenheit_to_celcius that converts a temperature from  Fahrenheit to Celsius ."
   ]
  },
  {
   "cell_type": "code",
   "execution_count": null,
   "id": "b3517d7f-be66-4d34-a9a4-e98f77ee2bd5",
   "metadata": {},
   "outputs": [],
   "source": [
    "def fahrenheit_to_celsius(fahrenheit):\n",
    "    celsius = (fahrenheit - 32) * 5/9\n",
    "    return celsius\n",
    "\n",
    "# Example usage:\n",
    "fahrenheit_temp = 77\n",
    "celsius_temp = fahrenheit_to_celsius(fahrenheit_temp)\n",
    "print(f\"{fahrenheit_temp} degrees Fahrenheit is equal to {celsius_temp} degrees Celsius\")\n"
   ]
  },
  {
   "cell_type": "code",
   "execution_count": null,
   "id": "12a4ab5e-c32d-469b-8a9f-e1feac3c922d",
   "metadata": {},
   "outputs": [],
   "source": [
    "def celcius_to_farhenheit(celcius):\n",
    "    farhenheit = (celcius * 9/5)+32\n",
    "    return farhenheit\n",
    "celcius_temp = 25\n",
    "farhenheit_temp = celcius_to_farhenheit(celcius_temp)\n",
    "print(f\"{celcius_temp} degrees equal to {farhenheit_temp} degrees farhenheit\")\n"
   ]
  },
  {
   "cell_type": "markdown",
   "id": "1fdefece-1efa-40b9-bf5f-3679b91d760a",
   "metadata": {},
   "source": [
    "# Prices of Medicines used by people"
   ]
  },
  {
   "cell_type": "code",
   "execution_count": null,
   "id": "37b97651-7e14-4ec0-b25a-81ff9ce1ff2f",
   "metadata": {},
   "outputs": [
    {
     "name": "stdin",
     "output_type": "stream",
     "text": [
      "Enter name of the medicine:  paracetamol\n",
      "Enter the quantity you want to purchase:  5\n"
     ]
    },
    {
     "name": "stdout",
     "output_type": "stream",
     "text": [
      "The total price for 5 units of paracetamol is RS 50\n",
      "\n",
      "Store hours: 9 AM - 9 PM\n",
      "Contact: medicalstore@example.com\n",
      "Address: 123 Health St, Wellness City\n",
      "\n"
     ]
    }
   ],
   "source": [
    "def medicine_price(medicine, quantity):\n",
    "    if medicine == \"paracetamol\":\n",
    "        price = 10\n",
    "    elif medicine == \"ibuprofen\":\n",
    "        price = 20\n",
    "    elif medicine == \"antibiotic\":\n",
    "        price = 50\n",
    "    elif medicine == \"cough syrup\":\n",
    "        price = 30\n",
    "    else:\n",
    "        print(f\"Sorry, we don't have {medicine} in stock.\")\n",
    "        return\n",
    "    \n",
    "    total_price = price * quantity\n",
    "    print(f\"The total price for {quantity} units of {medicine} is RS {total_price}\")\n",
    "\n",
    "def instructions():\n",
    "    print()\n",
    "    print(\"Store hours: 9 AM - 9 PM\")\n",
    "    print(\"Contact: medicalstore@example.com\")\n",
    "    print(\"Address: 123 Health St, Wellness City\")\n",
    "    print()\n",
    "\n",
    "for i in range(2):\n",
    "    name = input(\"Enter name of the medicine: \").lower()\n",
    "    qty = int(input(\"Enter the quantity you want to purchase: \"))\n",
    "    medicine_price(name, qty)\n",
    "    instructions()\n"
   ]
  },
  {
   "cell_type": "code",
   "execution_count": null,
   "id": "a0d32652-d806-4ea6-a571-c58364aad9f5",
   "metadata": {},
   "outputs": [],
   "source": []
  }
 ],
 "metadata": {
  "kernelspec": {
   "display_name": "Python 3 (ipykernel)",
   "language": "python",
   "name": "python3"
  },
  "language_info": {
   "codemirror_mode": {
    "name": "ipython",
    "version": 3
   },
   "file_extension": ".py",
   "mimetype": "text/x-python",
   "name": "python",
   "nbconvert_exporter": "python",
   "pygments_lexer": "ipython3",
   "version": "3.11.7"
  }
 },
 "nbformat": 4,
 "nbformat_minor": 5
}
