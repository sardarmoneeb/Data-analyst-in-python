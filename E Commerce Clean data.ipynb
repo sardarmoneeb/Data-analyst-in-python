{
 "cells": [
  {
   "cell_type": "code",
   "execution_count": 2,
   "id": "54d91858-1689-4848-b3ba-595d3e57ab0a",
   "metadata": {},
   "outputs": [
    {
     "name": "stdout",
     "output_type": "stream",
     "text": [
      "Saved cleaned file: C:/ProgramData/MySQL/MySQL Server 8.0/Uploads/ecommerce_clean.csv\n"
     ]
    }
   ],
   "source": [
    "# save as clean_csv.py and run locally (change paths)\n",
    "import pandas as pd\n",
    "\n",
    "src = r'D:/Kaggle datasets/E Commerce.csv'\n",
    "dst = r'C:/ProgramData/MySQL/MySQL Server 8.0/Uploads/ecommerce_clean.csv'\n",
    "\n",
    "df = pd.read_csv(src, encoding='latin1')  # or utf-8\n",
    "\n",
    "# clean CustomerID -> numeric or NaN\n",
    "df['CustomerID'] = pd.to_numeric(df['CustomerID'], errors='coerce').astype('Int64')\n",
    "\n",
    "# parse InvoiceDate (adjust dayfirst True/False per your format)\n",
    "df['InvoiceDate'] = pd.to_datetime(df['InvoiceDate'], dayfirst=True, errors='coerce')\n",
    "\n",
    "# optional: drop problematic rows or inspect them\n",
    "bad_cust = df[df['CustomerID'].isna() & df['CustomerID'].notnull()]  # example\n",
    "# print(bad_cust.head())\n",
    "\n",
    "# save cleaned csv for MySQL import\n",
    "df.to_csv(dst, index=False, date_format='%Y-%m-%d %H:%M:%S', na_rep='')\n",
    "print(\"Saved cleaned file:\", dst)\n"
   ]
  },
  {
   "cell_type": "code",
   "execution_count": null,
   "id": "e131762e-c934-4c44-934a-80a7e6521f00",
   "metadata": {},
   "outputs": [],
   "source": []
  }
 ],
 "metadata": {
  "kernelspec": {
   "display_name": "Python 3 (ipykernel)",
   "language": "python",
   "name": "python3"
  },
  "language_info": {
   "codemirror_mode": {
    "name": "ipython",
    "version": 3
   },
   "file_extension": ".py",
   "mimetype": "text/x-python",
   "name": "python",
   "nbconvert_exporter": "python",
   "pygments_lexer": "ipython3",
   "version": "3.12.3"
  }
 },
 "nbformat": 4,
 "nbformat_minor": 5
}
