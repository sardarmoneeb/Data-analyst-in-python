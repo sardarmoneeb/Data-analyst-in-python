{
 "cells": [
  {
   "cell_type": "code",
   "execution_count": null,
   "id": "f1168a5c-8f43-452f-ab81-f78135253677",
   "metadata": {},
   "outputs": [],
   "source": [
    "n = 123487\n",
    "count= 0\n",
    "while n>0:\n",
    "    n //= 10\n",
    "    count += 1\n",
    "print(\"The number of digits is:\", count)"
   ]
  },
  {
   "cell_type": "code",
   "execution_count": null,
   "id": "26bf468b-08f9-4906-9c85-f257ffced3b8",
   "metadata": {},
   "outputs": [],
   "source": [
    "n = 345678\n",
    "count = 0\n",
    "while n>0:\n",
    "    n //= 10\n",
    "    count += 1\n",
    "    print(\"The number of digits are:\", count)"
   ]
  },
  {
   "cell_type": "code",
   "execution_count": null,
   "id": "0a350dbd-5803-44ab-b7eb-6f597e0b4d1d",
   "metadata": {},
   "outputs": [],
   "source": [
    "n = 64\n",
    "power = 1\n",
    "while power <=n:\n",
    "    print(power)\n",
    "    power *=2"
   ]
  },
  {
   "cell_type": "code",
   "execution_count": null,
   "id": "2be6dc5b-2797-4417-ac50-c05f3e01a5d3",
   "metadata": {},
   "outputs": [],
   "source": [
    "n = 10\n",
    "i=1\n",
    "sum=0\n",
    "while i<=n:\n",
    "    sum+=i\n",
    "    i+=1\n",
    "print(\"the sum of values are\",sum)"
   ]
  },
  {
   "cell_type": "code",
   "execution_count": 3,
   "id": "97327dbe-0cf3-4a22-9e5e-2d6eddb6da38",
   "metadata": {},
   "outputs": [
    {
     "name": "stdin",
     "output_type": "stream",
     "text": [
      " Enter a value 6\n"
     ]
    },
    {
     "name": "stdout",
     "output_type": "stream",
     "text": [
      "6\n",
      "12\n",
      "18\n",
      "24\n",
      "30\n",
      "36\n",
      "42\n",
      "48\n",
      "54\n",
      "60\n",
      "66\n",
      "72\n",
      "78\n",
      "84\n",
      "90\n",
      "96\n",
      "102\n",
      "108\n",
      "114\n",
      "120\n",
      "This is the multiplication of 6\n"
     ]
    }
   ],
   "source": [
    "x = int(input(\" Enter a value\"))\n",
    "i = 1\n",
    "while i<=20:\n",
    "    print(i*x)\n",
    "    i+=1\n",
    "print(\"This is the multiplication of 6\")"
   ]
  },
  {
   "cell_type": "code",
   "execution_count": 4,
   "id": "6445cc92-1496-4582-84ce-6dbe535cb15e",
   "metadata": {},
   "outputs": [
    {
     "name": "stdin",
     "output_type": "stream",
     "text": [
      "Enter a value 7\n"
     ]
    },
    {
     "name": "stdout",
     "output_type": "stream",
     "text": [
      "7\n",
      "14\n",
      "21\n",
      "28\n",
      "35\n",
      "42\n",
      "49\n",
      "56\n",
      "63\n",
      "70\n",
      "77\n",
      "84\n",
      "91\n",
      "98\n",
      "105\n",
      "112\n",
      "119\n",
      "126\n",
      "133\n",
      "140\n"
     ]
    }
   ],
   "source": [
    "n = int(input(\"Enter a value\"))\n",
    "i = 1\n",
    "while i<=20:\n",
    "    print(i*n)\n",
    "    i+=1"
   ]
  },
  {
   "cell_type": "code",
   "execution_count": 8,
   "id": "4c78da39-3e80-448e-a451-3006be263601",
   "metadata": {},
   "outputs": [
    {
     "name": "stdout",
     "output_type": "stream",
     "text": [
      "sum of values are 210\n"
     ]
    }
   ],
   "source": [
    "n = 20\n",
    "i=1\n",
    "sum=0\n",
    "while i<=n:\n",
    "    sum+=i\n",
    "    i+=1\n",
    "print(\"sum of values are\",sum)"
   ]
  },
  {
   "cell_type": "code",
   "execution_count": null,
   "id": "ab9844a3-3805-418b-9b4a-091b55322a1a",
   "metadata": {},
   "outputs": [],
   "source": [
    "n = 10\n",
    "i=1\n",
    "while i<=n:\n",
    "    if n%2 ==0:\n",
    "        print()"
   ]
  }
 ],
 "metadata": {
  "kernelspec": {
   "display_name": "Python 3 (ipykernel)",
   "language": "python",
   "name": "python3"
  },
  "language_info": {
   "codemirror_mode": {
    "name": "ipython",
    "version": 3
   },
   "file_extension": ".py",
   "mimetype": "text/x-python",
   "name": "python",
   "nbconvert_exporter": "python",
   "pygments_lexer": "ipython3",
   "version": "3.11.7"
  }
 },
 "nbformat": 4,
 "nbformat_minor": 5
}
