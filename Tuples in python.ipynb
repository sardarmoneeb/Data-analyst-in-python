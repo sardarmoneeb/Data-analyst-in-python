{
 "cells": [
  {
   "cell_type": "markdown",
   "id": "9ed37b86-3c6f-4f6d-8e75-b6010dfe3457",
   "metadata": {},
   "source": [
    "# Tuples in python"
   ]
  },
  {
   "cell_type": "code",
   "execution_count": 1,
   "id": "9304f6aa-4569-4e94-9234-6710804c31ba",
   "metadata": {},
   "outputs": [
    {
     "name": "stdout",
     "output_type": "stream",
     "text": [
      "(1, 2, 3, 4, 7, 8)\n",
      "<class 'tuple'>\n"
     ]
    }
   ],
   "source": [
    "my_tuple = (1,2,3,4,7,8)\n",
    "print(my_tuple)\n",
    "print(type(my_tuple))"
   ]
  },
  {
   "cell_type": "markdown",
   "id": "768a7364-8e03-48b6-8f51-12cafbfdfe49",
   "metadata": {},
   "source": [
    "# Mixed Datatypes"
   ]
  },
  {
   "cell_type": "code",
   "execution_count": 2,
   "id": "7aec9407-a6e5-4358-ab43-96296d7d20d2",
   "metadata": {},
   "outputs": [
    {
     "name": "stdout",
     "output_type": "stream",
     "text": [
      "(1, 2, 'Hello', (4+5j))\n",
      "<class 'tuple'>\n"
     ]
    }
   ],
   "source": [
    "my_tuple = (1,2,\"Hello\",4+5j)\n",
    "print(my_tuple)\n",
    "print(type(my_tuple))"
   ]
  },
  {
   "cell_type": "markdown",
   "id": "dc3e6ab8-07be-4e73-98d8-6517ee51680c",
   "metadata": {},
   "source": [
    "# nested tuples¶"
   ]
  },
  {
   "cell_type": "code",
   "execution_count": 3,
   "id": "026d4658-df53-4e54-a51b-380879108c24",
   "metadata": {},
   "outputs": [
    {
     "name": "stdout",
     "output_type": "stream",
     "text": [
      "('Hello', [1, 2, 65], (7, 8, 9, 4))\n"
     ]
    }
   ],
   "source": [
    "my_tuple = (\"Hello\",[1,2,65,],(7,8,9,4))\n",
    "print(my_tuple)"
   ]
  },
  {
   "cell_type": "markdown",
   "id": "a67376b9-9c53-4571-a8c6-4eff11a19424",
   "metadata": {},
   "source": [
    "# Creating a tuple with only one item¶"
   ]
  },
  {
   "cell_type": "code",
   "execution_count": 4,
   "id": "f56b2c10-a443-4cd8-927c-0e112ef8fe4e",
   "metadata": {},
   "outputs": [
    {
     "name": "stdout",
     "output_type": "stream",
     "text": [
      "(5,)\n",
      "<class 'tuple'>\n"
     ]
    }
   ],
   "source": [
    "a = (5,)\n",
    "print(a)\n",
    "print(type(a))"
   ]
  },
  {
   "cell_type": "code",
   "execution_count": 5,
   "id": "b489f152-587d-4031-9440-6fdf3547fbfa",
   "metadata": {},
   "outputs": [
    {
     "name": "stdout",
     "output_type": "stream",
     "text": [
      "('Claaas',)\n",
      "<class 'tuple'>\n"
     ]
    }
   ],
   "source": [
    "b = (\"Claaas\",)\n",
    "print(b)\n",
    "print(type(b))"
   ]
  },
  {
   "cell_type": "code",
   "execution_count": 6,
   "id": "9edd85d2-e66f-4cbe-be31-3a66e4b339d1",
   "metadata": {},
   "outputs": [
    {
     "name": "stdout",
     "output_type": "stream",
     "text": [
      "10\n",
      "The sum of the numbers are 55\n"
     ]
    }
   ],
   "source": [
    "a = (1,2,3,4,5,6,7,8,9,10)\n",
    "b = 0\n",
    "print(len(a))\n",
    "for i in range (10):\n",
    "    b = b+a[i]\n",
    "    i = i+1\n",
    "print(\"The sum of the numbers are\",b)"
   ]
  },
  {
   "cell_type": "code",
   "execution_count": 7,
   "id": "7e40563f-3960-4835-9572-0cb2b34077a0",
   "metadata": {},
   "outputs": [
    {
     "name": "stdout",
     "output_type": "stream",
     "text": [
      "10\n",
      "The multiple of the numbers are 3628800\n"
     ]
    }
   ],
   "source": [
    "a = (1,2,3,4,5,6,7,8,9,10)\n",
    "b = 1\n",
    "print(len(a))\n",
    "for i in range (10):\n",
    "    b = b*a[i]\n",
    "    i = i+1\n",
    "print(\"The multiple of the numbers are\",b)"
   ]
  },
  {
   "cell_type": "markdown",
   "id": "59daa050-7f37-4f23-a26f-5af04fda57f0",
   "metadata": {},
   "source": [
    "# Tuple Constructor"
   ]
  },
  {
   "cell_type": "code",
   "execution_count": 8,
   "id": "a90c122c-3a3d-4c97-b6e5-20d4d2237643",
   "metadata": {},
   "outputs": [
    {
     "name": "stdout",
     "output_type": "stream",
     "text": [
      "(1, 'a', 'b')\n",
      "<class 'tuple'>\n"
     ]
    }
   ],
   "source": [
    "a = tuple((1,\"a\",\"b\"))\n",
    "print(a)\n",
    "print(type(a))"
   ]
  },
  {
   "cell_type": "markdown",
   "id": "00f3a81e-d198-4b42-a26f-0e1adca78293",
   "metadata": {},
   "source": [
    "# Indexing in tuple"
   ]
  },
  {
   "cell_type": "code",
   "execution_count": 9,
   "id": "5c3c6962-6cab-440c-912b-3030c7743971",
   "metadata": {},
   "outputs": [
    {
     "name": "stdout",
     "output_type": "stream",
     "text": [
      "(1, 'a', 'b', 56, 87, 'hello')\n",
      "<class 'tuple'>\n",
      "b\n"
     ]
    }
   ],
   "source": [
    "a = tuple((1,\"a\",\"b\",56,87,\"hello\"))\n",
    "print(a)\n",
    "print(type(a))\n",
    "print(a[2])"
   ]
  },
  {
   "cell_type": "markdown",
   "id": "ca1305d2-51a7-4574-be55-01237f78bc85",
   "metadata": {},
   "source": [
    "# Slicing"
   ]
  },
  {
   "cell_type": "code",
   "execution_count": 10,
   "id": "973c9849-0955-489e-8c2b-be8541ccda07",
   "metadata": {},
   "outputs": [
    {
     "name": "stdout",
     "output_type": "stream",
     "text": [
      "(1, 'a', 'b', 56, 87, 'hello')\n",
      "<class 'tuple'>\n",
      "('a', 56)\n"
     ]
    }
   ],
   "source": [
    "a = tuple((1,\"a\",\"b\",56,87,\"hello\"))\n",
    "print(a)\n",
    "print(type(a))\n",
    "print(a[1:5:2])"
   ]
  },
  {
   "cell_type": "code",
   "execution_count": 11,
   "id": "05a3d135-06c4-48f8-bfbb-82f30a073b3b",
   "metadata": {},
   "outputs": [
    {
     "name": "stdout",
     "output_type": "stream",
     "text": [
      "(1, 32, 4, 9, 8, 7, 5, 67, 3, 2, 1)\n"
     ]
    }
   ],
   "source": [
    "x = (1,2,3,67,5,7,8,9,4,32,1)\n",
    "print(x[::-1])"
   ]
  },
  {
   "cell_type": "code",
   "execution_count": 12,
   "id": "97a07f52-e2ad-4b6f-adbc-22b836fb3365",
   "metadata": {},
   "outputs": [
    {
     "name": "stdout",
     "output_type": "stream",
     "text": [
      "(1, 2, 3, 4, 5, 6, 7, 8)\n",
      "(4, 5, 6, 7, 8)\n",
      "(1, 2, 3, 4)\n",
      "()\n"
     ]
    }
   ],
   "source": [
    "t = (1,2,3,4,5,6,7,8)\n",
    "print(t[::])\n",
    "print(t[3 :])\n",
    "print(t[: 4])\n",
    "print(t[-2 : -5])"
   ]
  },
  {
   "cell_type": "markdown",
   "id": "2d7585fb-dbc4-4421-ad9d-69599874948d",
   "metadata": {},
   "source": [
    "# Add and remove items from tuple"
   ]
  },
  {
   "cell_type": "code",
   "execution_count": 13,
   "id": "bdcf70e3-4702-4065-8135-e527f7735b74",
   "metadata": {},
   "outputs": [
    {
     "name": "stdout",
     "output_type": "stream",
     "text": [
      "(1, 2, 3, 44, 55, 66, 9, 8, 7)\n"
     ]
    }
   ],
   "source": [
    "a = (1,2,3,44,55,66,9,8)\n",
    "b = list(a)\n",
    "b.append(7)\n",
    "a = tuple(b)\n",
    "print(a)"
   ]
  },
  {
   "cell_type": "code",
   "execution_count": 14,
   "id": "3bd41839-4f5c-42a0-9e2c-e641932fa9f4",
   "metadata": {},
   "outputs": [
    {
     "name": "stdout",
     "output_type": "stream",
     "text": [
      "(1, 2, 3, 44, 66, 9, 8)\n"
     ]
    }
   ],
   "source": [
    "a = (1,2,3,44,55,66,9,8)\n",
    "b = list(a)\n",
    "b.remove(55)\n",
    "a = tuple(b)\n",
    "print(a)"
   ]
  },
  {
   "cell_type": "markdown",
   "id": "6fa6edab-b28f-44af-a1eb-599bfac8846f",
   "metadata": {},
   "source": [
    "# write a program to take 5 input from user and store them in a tuple?¶"
   ]
  },
  {
   "cell_type": "code",
   "execution_count": 3,
   "id": "d174b472-2f5c-48ab-b601-95ff6449c750",
   "metadata": {},
   "outputs": [
    {
     "name": "stdin",
     "output_type": "stream",
     "text": [
      "Enter a value please! 23\n"
     ]
    },
    {
     "name": "stdout",
     "output_type": "stream",
     "text": [
      "(23,)\n"
     ]
    },
    {
     "name": "stdin",
     "output_type": "stream",
     "text": [
      "Enter a value please! 43\n"
     ]
    },
    {
     "name": "stdout",
     "output_type": "stream",
     "text": [
      "(23, 43)\n"
     ]
    },
    {
     "name": "stdin",
     "output_type": "stream",
     "text": [
      "Enter a value please! 54\n"
     ]
    },
    {
     "name": "stdout",
     "output_type": "stream",
     "text": [
      "(23, 43, 54)\n"
     ]
    },
    {
     "name": "stdin",
     "output_type": "stream",
     "text": [
      "Enter a value please! 6\n"
     ]
    },
    {
     "name": "stdout",
     "output_type": "stream",
     "text": [
      "(23, 43, 54, 6)\n"
     ]
    },
    {
     "name": "stdin",
     "output_type": "stream",
     "text": [
      "Enter a value please! 1\n"
     ]
    },
    {
     "name": "stdout",
     "output_type": "stream",
     "text": [
      "(23, 43, 54, 6, 1)\n"
     ]
    },
    {
     "name": "stdin",
     "output_type": "stream",
     "text": [
      "Enter a value please! 2\n"
     ]
    },
    {
     "name": "stdout",
     "output_type": "stream",
     "text": [
      "(23, 43, 54, 6, 1, 2)\n"
     ]
    }
   ],
   "source": [
    "T =()\n",
    "i = 0\n",
    "while i<=5:\n",
    "    num = int(input(\"Enter a value please!\"))\n",
    "    T = T + (num,)\n",
    "    i = i+1\n",
    "    print(T)\n",
    "    "
   ]
  },
  {
   "cell_type": "code",
   "execution_count": 1,
   "id": "9a69d295-ebd6-4822-8625-c827d294a02a",
   "metadata": {},
   "outputs": [
    {
     "name": "stdin",
     "output_type": "stream",
     "text": [
      "Enter a value 1\n"
     ]
    },
    {
     "name": "stdout",
     "output_type": "stream",
     "text": [
      "[1]\n"
     ]
    },
    {
     "name": "stdin",
     "output_type": "stream",
     "text": [
      "Enter a value 2\n"
     ]
    },
    {
     "name": "stdout",
     "output_type": "stream",
     "text": [
      "[1, 2]\n"
     ]
    },
    {
     "name": "stdin",
     "output_type": "stream",
     "text": [
      "Enter a value 3\n"
     ]
    },
    {
     "name": "stdout",
     "output_type": "stream",
     "text": [
      "[1, 2, 3]\n"
     ]
    },
    {
     "name": "stdin",
     "output_type": "stream",
     "text": [
      "Enter a value 4\n"
     ]
    },
    {
     "name": "stdout",
     "output_type": "stream",
     "text": [
      "[1, 2, 3, 4]\n"
     ]
    },
    {
     "name": "stdin",
     "output_type": "stream",
     "text": [
      "Enter a value 5\n"
     ]
    },
    {
     "name": "stdout",
     "output_type": "stream",
     "text": [
      "[1, 2, 3, 4, 5]\n"
     ]
    }
   ],
   "source": [
    "x = []\n",
    "i = 0\n",
    "while i<=4:\n",
    "    num = int(input(\"Enter a value\"))\n",
    "    x = x + [num]\n",
    "    i = i+1\n",
    "    print(x)"
   ]
  },
  {
   "cell_type": "code",
   "execution_count": null,
   "id": "313413a4-da42-4f15-8993-5efb98da2e88",
   "metadata": {},
   "outputs": [],
   "source": [
    "x = (1,2,54)\n",
    "y = (76,67,\"Claaas\")\n",
    "z = x+y\n",
    "print(z)"
   ]
  }
 ],
 "metadata": {
  "kernelspec": {
   "display_name": "Python 3 (ipykernel)",
   "language": "python",
   "name": "python3"
  },
  "language_info": {
   "codemirror_mode": {
    "name": "ipython",
    "version": 3
   },
   "file_extension": ".py",
   "mimetype": "text/x-python",
   "name": "python",
   "nbconvert_exporter": "python",
   "pygments_lexer": "ipython3",
   "version": "3.11.7"
  }
 },
 "nbformat": 4,
 "nbformat_minor": 5
}
