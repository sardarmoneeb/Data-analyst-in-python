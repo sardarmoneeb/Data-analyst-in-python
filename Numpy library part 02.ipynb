{
 "cells": [
  {
   "cell_type": "code",
   "execution_count": 1,
   "id": "2d6aa3d1-ccd9-419a-8bd8-94dfaf87e543",
   "metadata": {},
   "outputs": [],
   "source": [
    "import numpy as np\n"
   ]
  },
  {
   "cell_type": "markdown",
   "id": "545361af-ddb7-49fa-bfb7-2ed78c79163d",
   "metadata": {},
   "source": [
    "# Slicing of numpy array"
   ]
  },
  {
   "cell_type": "code",
   "execution_count": 2,
   "id": "c4102a7d-2b8c-4cca-af8d-c7e9137aaf99",
   "metadata": {},
   "outputs": [
    {
     "name": "stdout",
     "output_type": "stream",
     "text": [
      "[11 12 13 14 15]\n",
      "1\n",
      "12\n",
      "[12 13 14]\n"
     ]
    }
   ],
   "source": [
    "arr = np.array([11,12,13,14,15])\n",
    "print(arr)\n",
    "print(arr.ndim)\n",
    "print(arr[1])\n",
    "print(arr[1:4])"
   ]
  },
  {
   "cell_type": "code",
   "execution_count": 3,
   "id": "317f5b6c-3383-486f-a937-7448fd4232ca",
   "metadata": {},
   "outputs": [
    {
     "name": "stdout",
     "output_type": "stream",
     "text": [
      "[[11 12 13 14]\n",
      " [15 16 17 18]]\n",
      "The dimension of [[11 12 13 14]\n",
      " [15 16 17 18]] is 2\n",
      "Values fetched from arr are [15 16 17 18]\n"
     ]
    }
   ],
   "source": [
    "arr = np.array([[11,12,13,14],[15,16,17,18]])\n",
    "print(arr)\n",
    "print(f\"The dimension of {arr} is\",arr.ndim)\n",
    "print(\"Values fetched from arr are\",arr[1,0:4])"
   ]
  },
  {
   "cell_type": "code",
   "execution_count": 4,
   "id": "fb061e65-dfc9-4156-9fa2-7be5f9e14968",
   "metadata": {},
   "outputs": [
    {
     "name": "stdout",
     "output_type": "stream",
     "text": [
      "[[[ 1  2  3  4]\n",
      "  [ 5  6  7  8]\n",
      "  [11 22 33 44]]]\n",
      "3\n",
      "[22 33 44]\n"
     ]
    }
   ],
   "source": [
    "arr = np.array([[[1,2,3,4],[5,6,7,8],[11,22,33,44]]])\n",
    "print(arr)\n",
    "print(arr.ndim)\n",
    "# print(arr[0,0,2:4])\n",
    "# print(arr[0,1,0:3])\n",
    "print(arr[0,2,1:4])"
   ]
  },
  {
   "cell_type": "code",
   "execution_count": 5,
   "id": "378f3d4e-ebf0-4d49-b8c3-b76f8d956ee1",
   "metadata": {},
   "outputs": [
    {
     "name": "stdout",
     "output_type": "stream",
     "text": [
      "[[[ 1  2  3  4]\n",
      "  [ 5  6  7  8]]\n",
      "\n",
      " [[ 9 10 11 12]\n",
      "  [13 14 15 16]]]\n",
      "3\n",
      "[1 2 3 4]\n",
      "[ 9 10 11 12]\n",
      "[5 6 7 8]\n",
      "[13 14 15 16]\n"
     ]
    }
   ],
   "source": [
    "arr = np.array([[[1,2,3,4],[5,6,7,8]],[[9,10,11,12],[13,14,15,16]]])\n",
    "print(arr)\n",
    "print(arr.ndim)\n",
    "print(arr[0,0,0:4])\n",
    "print(arr[1,0,0:4])\n",
    "print(arr[0,1,0:4])\n",
    "print(arr[1,1,0:4])"
   ]
  },
  {
   "cell_type": "markdown",
   "id": "f8860b19-ebbc-4f76-8c25-36415517d716",
   "metadata": {},
   "source": [
    "# Checking the data types of array"
   ]
  },
  {
   "cell_type": "code",
   "execution_count": 6,
   "id": "d8c4607a-902e-47f6-84a7-6a59354c4f7a",
   "metadata": {},
   "outputs": [
    {
     "name": "stdout",
     "output_type": "stream",
     "text": [
      "[[11 12 13 14]\n",
      " [15 16 17 18]]\n",
      "The data types of an arraay is int32\n"
     ]
    }
   ],
   "source": [
    "arr = np.array([[11,12,13,14],[15,16,17,18]])\n",
    "print(arr)\n",
    "print(\"The data types of an arraay is\",arr.dtype)"
   ]
  },
  {
   "cell_type": "markdown",
   "id": "9e349d1f-0ceb-4f64-934b-f434c6b06fbd",
   "metadata": {},
   "source": [
    "# Creating array with defined data type"
   ]
  },
  {
   "cell_type": "code",
   "execution_count": 7,
   "id": "df2f609c-16da-4195-8ca3-20e1fdf665f4",
   "metadata": {},
   "outputs": [
    {
     "name": "stdout",
     "output_type": "stream",
     "text": [
      "[[11 12 13 14]\n",
      " [15 16 17 18]]\n",
      "int32\n"
     ]
    }
   ],
   "source": [
    "arr = np.array([[11,12,13,14],[15,16,17,18]],dtype = 'i4')\n",
    "print(arr)\n",
    "print(arr.dtype)"
   ]
  },
  {
   "cell_type": "code",
   "execution_count": 8,
   "id": "6cff9952-ea3c-4244-a9b5-0571f518848f",
   "metadata": {},
   "outputs": [
    {
     "name": "stdout",
     "output_type": "stream",
     "text": [
      "[b'Hello Class how are you']\n",
      "|S23\n"
     ]
    }
   ],
   "source": [
    "arr = np.array([\"Hello Class how are you\"],dtype = 'S')\n",
    "print(arr)\n",
    "print(arr.dtype)"
   ]
  },
  {
   "cell_type": "code",
   "execution_count": 9,
   "id": "e819ded4-da44-434d-98cf-131d0d20b6f2",
   "metadata": {},
   "outputs": [
    {
     "name": "stdout",
     "output_type": "stream",
     "text": [
      "[[11.   12.1  13.7  14.  ]\n",
      " [15.78 16.   17.   18.  ]]\n",
      "float32\n"
     ]
    }
   ],
   "source": [
    "arr = np.array([[11.0,12.1,13.7,14],[15.78,16,17,18]],dtype = 'f')\n",
    "print(arr)\n",
    "print(arr.dtype)"
   ]
  },
  {
   "cell_type": "markdown",
   "id": "5345d686-3dc5-45a2-b578-6314788402f3",
   "metadata": {},
   "source": [
    "# Numpy array shape"
   ]
  },
  {
   "cell_type": "code",
   "execution_count": 10,
   "id": "d3cc25f1-7bfa-411f-a71b-edcb21abe085",
   "metadata": {},
   "outputs": [
    {
     "name": "stdout",
     "output_type": "stream",
     "text": [
      "(4,)\n"
     ]
    }
   ],
   "source": [
    "arr = np.array([1,2,3,4])\n",
    "print(arr.shape)"
   ]
  },
  {
   "cell_type": "code",
   "execution_count": 11,
   "id": "cd928677-d941-47b7-9836-3699b25d188f",
   "metadata": {},
   "outputs": [
    {
     "name": "stdout",
     "output_type": "stream",
     "text": [
      "(2, 5)\n",
      "int32\n",
      "2\n"
     ]
    }
   ],
   "source": [
    "arr = np.array([[12,13,14,15,76],[16,17,18,19,56]])\n",
    "print(arr.shape)\n",
    "print(arr.dtype)\n",
    "print(arr.ndim)"
   ]
  },
  {
   "cell_type": "code",
   "execution_count": 12,
   "id": "f4504f0e-a772-4b14-bd83-289fcee645f6",
   "metadata": {},
   "outputs": [
    {
     "name": "stdout",
     "output_type": "stream",
     "text": [
      "(1, 3, 5)\n",
      "int32\n",
      "3\n"
     ]
    }
   ],
   "source": [
    "arr = np.array([[[12,13,14,15,76],[16,17,18,19,56],[21,22,23,45,67]]])\n",
    "print(arr.shape)\n",
    "print(arr.dtype)\n",
    "print(arr.ndim)"
   ]
  },
  {
   "cell_type": "markdown",
   "id": "b649a2e6-f459-4060-a89c-544bba81e4e7",
   "metadata": {},
   "source": [
    "# Joining of numpy arrays"
   ]
  },
  {
   "cell_type": "code",
   "execution_count": 13,
   "id": "f6baab9a-a3fc-42ad-9c43-c51ee1fc23e1",
   "metadata": {},
   "outputs": [
    {
     "name": "stdout",
     "output_type": "stream",
     "text": [
      "[1 2 3 4 5 6]\n"
     ]
    }
   ],
   "source": [
    "arr1 = np.array([1,2,3])\n",
    "arr2 = np.array([4,5,6])\n",
    "arr = np.concatenate((arr1,arr2))\n",
    "print(arr)"
   ]
  },
  {
   "cell_type": "code",
   "execution_count": 14,
   "id": "5aeb7df1-1958-49f7-be30-1f4e6c1c18e8",
   "metadata": {},
   "outputs": [
    {
     "name": "stdout",
     "output_type": "stream",
     "text": [
      "[[ 1  2]\n",
      " [ 3  4]\n",
      " [11 22]\n",
      " [33 44]]\n"
     ]
    }
   ],
   "source": [
    "arr1 = np.array([[1,2],[3,4]])\n",
    "arr2 = np.array([[11,22],[33,44]])\n",
    "arr = np.concatenate((arr1,arr2),axis = 0)\n",
    "print(arr)"
   ]
  },
  {
   "cell_type": "code",
   "execution_count": 15,
   "id": "e0793852-0c7e-4964-9257-93bee3213f21",
   "metadata": {},
   "outputs": [
    {
     "name": "stdout",
     "output_type": "stream",
     "text": [
      "[[ 1  2 11 22]\n",
      " [ 3  4 33 44]]\n"
     ]
    }
   ],
   "source": [
    "arr1 = np.array([[1,2],[3,4]])\n",
    "arr2 = np.array([[11,22],[33,44]])\n",
    "arr = np.concatenate((arr1,arr2),axis = 1)\n",
    "print(arr)"
   ]
  },
  {
   "cell_type": "code",
   "execution_count": 16,
   "id": "d752ac00-111f-4ffb-8607-f8bcd0095c34",
   "metadata": {},
   "outputs": [
    {
     "name": "stdout",
     "output_type": "stream",
     "text": [
      "[[[10 20 30]\n",
      "  [40 50 60]\n",
      "  [70 80 90]\n",
      "  [11 22 33]\n",
      "  [44 55 66]\n",
      "  [77 88 99]]]\n"
     ]
    }
   ],
   "source": [
    "arr1 = np.array([[[10,20,30],[40,50,60],[70,80,90]]])\n",
    "arr2 = np.array([[[11,22,33],[44,55,66],[77,88,99]]])\n",
    "arr = np.concatenate((arr1,arr2), axis = 1)\n",
    "print(arr)"
   ]
  },
  {
   "cell_type": "markdown",
   "id": "c95e40a6-1c06-4f4c-89c2-809a6ca86b2a",
   "metadata": {},
   "source": [
    "# Splitting numpy arrays in parts"
   ]
  },
  {
   "cell_type": "code",
   "execution_count": 17,
   "id": "a668882b-047b-42f6-9a2c-ff56f94dd82e",
   "metadata": {},
   "outputs": [
    {
     "name": "stdout",
     "output_type": "stream",
     "text": [
      "[array([1, 2]), array([3, 4]), array([5, 6]), array([7, 8])]\n"
     ]
    }
   ],
   "source": [
    "arr = np.array([1,2,3,4,5,6,7,8])\n",
    "newarr = np.array_split(arr,4)\n",
    "print(newarr)"
   ]
  },
  {
   "cell_type": "markdown",
   "id": "f55d8602-7be2-4179-803a-72765a94b1a3",
   "metadata": {},
   "source": [
    "# unique function"
   ]
  },
  {
   "cell_type": "code",
   "execution_count": 22,
   "id": "dab95af7-fc13-4623-b94c-e66e95b8655f",
   "metadata": {},
   "outputs": [
    {
     "name": "stdout",
     "output_type": "stream",
     "text": [
      "[ 1  2  3  4  5  6  7  8  1  3  5  8  9 10]\n",
      "(array([ 1,  2,  3,  4,  5,  6,  7,  8,  9, 10]), array([ 0,  1,  2,  3,  4,  5,  6,  7, 12, 13], dtype=int64), array([2, 1, 2, 1, 2, 1, 1, 2, 1, 1], dtype=int64))\n"
     ]
    }
   ],
   "source": [
    "arr = np.array([1,2,3,4,5,6,7,8,1,3,5,8,9,10])\n",
    "print(arr)\n",
    "arr1 = np.unique(arr, return_index = True, return_counts = True)\n",
    "print(arr1)"
   ]
  },
  {
   "cell_type": "markdown",
   "id": "46e8694f-995a-4924-8215-be6cdceeb43a",
   "metadata": {},
   "source": [
    "# ravel and flatten"
   ]
  },
  {
   "cell_type": "code",
   "execution_count": null,
   "id": "981fe5f0-3509-4f7d-a94a-bc0e1c649ef2",
   "metadata": {},
   "outputs": [],
   "source": [
    "arr1 = np.array([[[10,20,30],[40,50,60],[70,80,90]]]) \n",
    "print(arr1)\n",
    "print(arr1.ndim)\n",
    "arr2 = arr1.ravel() # Convert multidimensional aarray into one dimension\n",
    "print(arr2)\n",
    "print(arr2.ndim)"
   ]
  },
  {
   "cell_type": "markdown",
   "id": "4bd210fd-946e-411e-908b-edc01c7783f6",
   "metadata": {},
   "source": [
    "# Delete"
   ]
  },
  {
   "cell_type": "code",
   "execution_count": 23,
   "id": "8331724b-bab6-461d-a16f-4aaa74c98475",
   "metadata": {},
   "outputs": [
    {
     "name": "stdout",
     "output_type": "stream",
     "text": [
      "[ 1 22 34 32]\n",
      "[ 1 22 32]\n"
     ]
    }
   ],
   "source": [
    "arr = np.array([1,22,34,32])\n",
    "print(arr)\n",
    "arr1 = np.delete(arr,[2])\n",
    "print(arr1)"
   ]
  },
  {
   "cell_type": "code",
   "execution_count": 28,
   "id": "13127600-998a-4732-927b-fbb82660ec97",
   "metadata": {},
   "outputs": [
    {
     "name": "stdout",
     "output_type": "stream",
     "text": [
      "[[ 1  2 34 56]]\n"
     ]
    }
   ],
   "source": [
    "arr = np.array([[1,2,34,56],[78,99,54,67]])\n",
    "arr1 = np.delete(arr,1,axis = 0)\n",
    "print(arr1)"
   ]
  },
  {
   "cell_type": "markdown",
   "id": "9ff23cc1-7764-4bc7-bfa0-eaca23df3095",
   "metadata": {},
   "source": [
    "# Write a program to flatten the 2D array [[1, 2], [3, 4], [5, 6]] into a 1D array."
   ]
  },
  {
   "cell_type": "code",
   "execution_count": 10,
   "id": "201a2553-f749-4cc7-b410-d6d078899226",
   "metadata": {},
   "outputs": [
    {
     "name": "stdout",
     "output_type": "stream",
     "text": [
      "[[1 2]\n",
      " [3 4]\n",
      " [5 7]]\n",
      "The dimension of arr is 2\n",
      "\n",
      "[1 2 3 4 5 7]\n",
      "The dimension of newarr is 1\n"
     ]
    }
   ],
   "source": [
    "import numpy as np\n",
    "arr = np.array([[1, 2], [3, 4], [5, 7]])\n",
    "print(arr)\n",
    "print(\"The dimension of arr is\",arr.ndim)\n",
    "print()\n",
    "# newarr = np.ravel(arr)\n",
    "newarr  = arr.flatten()\n",
    "print(newarr)\n",
    "print(\"The dimension of newarr is\",newarr.ndim)\n"
   ]
  },
  {
   "cell_type": "markdown",
   "id": "c300930f-a2dd-486a-a33a-ebac9c43225b",
   "metadata": {},
   "source": [
    "# Write a program to reshape the array [1, 2, 3, 4, 5, 6] into a 2x3 array."
   ]
  },
  {
   "cell_type": "code",
   "execution_count": 11,
   "id": "605b8a09-88e1-419f-870e-55973302ab44",
   "metadata": {},
   "outputs": [
    {
     "name": "stdout",
     "output_type": "stream",
     "text": [
      "[[1 2 3]\n",
      " [4 5 6]]\n"
     ]
    }
   ],
   "source": [
    "import numpy as np\n",
    "\n",
    "# Create the initial array\n",
    "original_array = np.array([1, 2, 3, 4, 5, 6])\n",
    "\n",
    "# Reshape the array to a 2x3 array\n",
    "reshaped_array = original_array.reshape(2, 3)\n",
    "\n",
    "print(reshaped_array)\n"
   ]
  },
  {
   "cell_type": "markdown",
   "id": "5c52dc1b-9686-4531-ba8e-4f8b3749bdd4",
   "metadata": {},
   "source": [
    "# Write a program to perform matrix multiplication on the following two matrices:"
   ]
  },
  {
   "cell_type": "code",
   "execution_count": 12,
   "id": "16160d1f-e9f9-4e26-94f4-754344dce45f",
   "metadata": {},
   "outputs": [
    {
     "name": "stdout",
     "output_type": "stream",
     "text": [
      "[[19 22]\n",
      " [43 50]]\n"
     ]
    }
   ],
   "source": [
    "import numpy as np\n",
    "\n",
    "# Create the matrices\n",
    "matrix1 = np.array([[1, 2], [3, 4]])\n",
    "matrix2 = np.array([[5, 6], [7, 8]])\n",
    "\n",
    "# Perform matrix multiplication\n",
    "result = np.dot(matrix1, matrix2)\n",
    "\n",
    "print(result)\n"
   ]
  },
  {
   "cell_type": "code",
   "execution_count": null,
   "id": "840b77e1-457f-4eb6-84dc-8dccdc7fd03d",
   "metadata": {},
   "outputs": [],
   "source": []
  }
 ],
 "metadata": {
  "kernelspec": {
   "display_name": "Python 3 (ipykernel)",
   "language": "python",
   "name": "python3"
  },
  "language_info": {
   "codemirror_mode": {
    "name": "ipython",
    "version": 3
   },
   "file_extension": ".py",
   "mimetype": "text/x-python",
   "name": "python",
   "nbconvert_exporter": "python",
   "pygments_lexer": "ipython3",
   "version": "3.11.7"
  }
 },
 "nbformat": 4,
 "nbformat_minor": 5
}
