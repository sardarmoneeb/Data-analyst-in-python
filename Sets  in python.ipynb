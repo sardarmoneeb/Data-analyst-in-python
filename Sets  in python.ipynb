{
 "cells": [
  {
   "cell_type": "markdown",
   "id": "6e51dbd4-7342-45e2-bd6d-6d4f4dcb4faf",
   "metadata": {},
   "source": [
    "# Sets"
   ]
  },
  {
   "cell_type": "code",
   "execution_count": null,
   "id": "f2d90628-682f-4935-9301-0c6e364391d0",
   "metadata": {},
   "outputs": [],
   "source": [
    "a = {\"animal\",\"dog\",\"cat\",\"goat\",\"hen\",\"rabbit\"}\n",
    "print(a)\n",
    "print(type(a))"
   ]
  },
  {
   "cell_type": "markdown",
   "id": "4aa14481-86fc-4913-92e9-8e03f88b717c",
   "metadata": {},
   "source": [
    "Length in sets"
   ]
  },
  {
   "cell_type": "code",
   "execution_count": null,
   "id": "c4c2951e-7f81-45aa-81a2-30fab2844966",
   "metadata": {},
   "outputs": [],
   "source": [
    "a = {\"animal\",\"dog\",\"cat\",\"goat\",\"hen\",\"rabbit\"}\n",
    "print(len(a))"
   ]
  },
  {
   "cell_type": "markdown",
   "id": "cdc7b37f-2701-4a7e-beed-801cbe78404f",
   "metadata": {},
   "source": [
    "# Mixed datatypes"
   ]
  },
  {
   "cell_type": "code",
   "execution_count": null,
   "id": "b3185c17-1958-4eef-a2d1-0375b2ac768e",
   "metadata": {},
   "outputs": [],
   "source": [
    "x = {12,43,556,\"animal\",9.89,3+6j}\n",
    "print(x)"
   ]
  },
  {
   "cell_type": "markdown",
   "id": "206f1979-1b81-4536-9851-2a4d133ffb2d",
   "metadata": {},
   "source": [
    "# Duplication not allowed"
   ]
  },
  {
   "cell_type": "code",
   "execution_count": null,
   "id": "4c9c03e6-7e96-45a1-8bb0-180d458b068f",
   "metadata": {},
   "outputs": [],
   "source": [
    "i = {\"Hello\",\"Class\",67,\"Class\",\"Hello\",\"human\"}\n",
    "print(i)\n",
    "print(type(i))"
   ]
  },
  {
   "cell_type": "markdown",
   "id": "ea4a1e5a-4cff-488f-a307-107962107032",
   "metadata": {},
   "source": [
    "# Indexing not allowed in sets"
   ]
  },
  {
   "cell_type": "code",
   "execution_count": null,
   "id": "685e3114-9a5f-461b-81bb-7f2f811bd311",
   "metadata": {},
   "outputs": [],
   "source": [
    "i = {\"Hello\",\"Class\",67,\"Class\",\"Hello\",\"human\"}\n",
    "print(i[3])"
   ]
  },
  {
   "cell_type": "markdown",
   "id": "f7f622b7-4848-48b3-82ed-a76e91fdbba9",
   "metadata": {},
   "source": [
    "# nested in sets not workable"
   ]
  },
  {
   "cell_type": "code",
   "execution_count": null,
   "id": "ad7cc7b7-cda1-4538-9e7b-425e7aca0901",
   "metadata": {},
   "outputs": [],
   "source": [
    "a = {{1,23,45,\"hlo\"}}\n",
    "print(a)"
   ]
  },
  {
   "cell_type": "code",
   "execution_count": null,
   "id": "e0b4ab48-fe8a-40fd-b4d4-4a4e6c7c36b1",
   "metadata": {},
   "outputs": [],
   "source": [
    "x = {[23,54,76,76]}\n",
    "print(x)"
   ]
  },
  {
   "cell_type": "markdown",
   "id": "54e91456-2a19-46c9-a063-c34ac1325265",
   "metadata": {},
   "source": [
    "# Tuples in sets allowed"
   ]
  },
  {
   "cell_type": "code",
   "execution_count": null,
   "id": "8d305982-4f16-4d0e-9819-523ee8705b0d",
   "metadata": {},
   "outputs": [],
   "source": [
    "y = {(32,65,76,\"human\",32)}\n",
    "print(y)\n",
    "print(type(y))"
   ]
  },
  {
   "cell_type": "markdown",
   "id": "d4ed1282-8e3b-4d98-a5c9-fb762054b6c9",
   "metadata": {},
   "source": [
    "# set constructor"
   ]
  },
  {
   "cell_type": "code",
   "execution_count": null,
   "id": "4e14fc6c-2a38-4821-b7d4-4ed3c975cb43",
   "metadata": {},
   "outputs": [],
   "source": [
    "x = set((23,\"hlo\",\"class\"))\n",
    "print(x)\n",
    "print(type(x))"
   ]
  },
  {
   "cell_type": "markdown",
   "id": "763a9a48-716a-4ebc-9553-3d7790ed3fa7",
   "metadata": {},
   "source": [
    "# Concatenating two sets"
   ]
  },
  {
   "cell_type": "code",
   "execution_count": null,
   "id": "0270d9eb-ead8-4f7d-adcb-fb44a625fa30",
   "metadata": {},
   "outputs": [],
   "source": [
    "x = {12,23,65}\n",
    "y = {65,87,34}\n",
    "z = x.union(y)\n",
    "print(z)"
   ]
  },
  {
   "cell_type": "markdown",
   "id": "c98b658c-a971-4f53-8853-f1fc2b9f9a33",
   "metadata": {},
   "source": [
    "# add item in set"
   ]
  },
  {
   "cell_type": "code",
   "execution_count": null,
   "id": "32d229d4-8efd-4817-ac9f-55488cc20645",
   "metadata": {},
   "outputs": [],
   "source": [
    "x = {12,43,65,87}\n",
    "x.add(54)\n",
    "print(x)"
   ]
  },
  {
   "cell_type": "markdown",
   "id": "f1ccdd5c-b484-43ed-b28a-f8e9f509834b",
   "metadata": {},
   "source": [
    "# remove items from set"
   ]
  },
  {
   "cell_type": "code",
   "execution_count": null,
   "id": "759f608e-967a-4ef6-b1b9-ec258e98b416",
   "metadata": {},
   "outputs": [],
   "source": [
    "x = {12,43,65,87}\n",
    "x.remove(12)\n",
    "print(x)"
   ]
  },
  {
   "cell_type": "code",
   "execution_count": 3,
   "id": "49e3c183-2035-4ca6-9605-99b69eab9435",
   "metadata": {},
   "outputs": [
    {
     "ename": "NameError",
     "evalue": "name 'x' is not defined",
     "output_type": "error",
     "traceback": [
      "\u001b[1;31m---------------------------------------------------------------------------\u001b[0m",
      "\u001b[1;31mNameError\u001b[0m                                 Traceback (most recent call last)",
      "Cell \u001b[1;32mIn[3], line 3\u001b[0m\n\u001b[0;32m      1\u001b[0m x \u001b[38;5;241m=\u001b[39m {\u001b[38;5;241m12\u001b[39m,\u001b[38;5;241m54\u001b[39m,\u001b[38;5;241m7.3\u001b[39m,\u001b[38;5;241m900\u001b[39m}\n\u001b[0;32m      2\u001b[0m \u001b[38;5;28;01mdel\u001b[39;00m x\n\u001b[1;32m----> 3\u001b[0m \u001b[38;5;28mprint\u001b[39m(x)\n",
      "\u001b[1;31mNameError\u001b[0m: name 'x' is not defined"
     ]
    }
   ],
   "source": [
    "x = {12,54,7.3,900}\n",
    "del x\n",
    "print(x)"
   ]
  },
  {
   "cell_type": "markdown",
   "id": "2f6c321b-e2fb-4b2d-ae88-884c0b041d3b",
   "metadata": {},
   "source": [
    "# write a program to find max and min from set"
   ]
  },
  {
   "cell_type": "code",
   "execution_count": 5,
   "id": "ed259846-4df7-4bf0-866a-a5a14afeca1f",
   "metadata": {},
   "outputs": [
    {
     "name": "stdout",
     "output_type": "stream",
     "text": [
      "Original set {43, 12, 54, 6}\n",
      "The maximum value is\n",
      "54\n",
      "The minimum value is\n",
      "6\n"
     ]
    }
   ],
   "source": [
    "x = {12,43,54,6}\n",
    "print(\"Original set\",x)\n",
    "print(\"The maximum value is\")\n",
    "print(max(x))\n",
    "print(\"The minimum value is\")\n",
    "print(min(x))\n"
   ]
  },
  {
   "cell_type": "markdown",
   "id": "828ae066-21f4-45fd-b55b-2f70806ced21",
   "metadata": {},
   "source": [
    "# return new set of identical items from set"
   ]
  },
  {
   "cell_type": "code",
   "execution_count": 6,
   "id": "f63e2ce0-b985-400d-94f6-3c5d8da279ff",
   "metadata": {},
   "outputs": [
    {
     "name": "stdout",
     "output_type": "stream",
     "text": [
      "{56, 34}\n"
     ]
    }
   ],
   "source": [
    "x = {12,34,56}\n",
    "y = {34,56,78}\n",
    "print(x.intersection(y))"
   ]
  },
  {
   "cell_type": "code",
   "execution_count": 11,
   "id": "b360d354-ac8d-4a63-b395-688ea7ad91de",
   "metadata": {},
   "outputs": [
    {
     "name": "stdout",
     "output_type": "stream",
     "text": [
      "{89, 98, 100, 7, 8.78, 1000, 56}\n",
      "7\n",
      "1000\n",
      "7\n"
     ]
    }
   ],
   "source": [
    "x = {56,98,8.78,7,56,89,98,100,1000,98}\n",
    "print(x)\n",
    "print(len(x))\n",
    "print(max(x))\n",
    "print(min(x))"
   ]
  },
  {
   "cell_type": "code",
   "execution_count": 12,
   "id": "baa58074-e331-472f-9405-5d8b93faefa0",
   "metadata": {},
   "outputs": [
    {
     "ename": "TypeError",
     "evalue": "unhashable type: 'list'",
     "output_type": "error",
     "traceback": [
      "\u001b[1;31m---------------------------------------------------------------------------\u001b[0m",
      "\u001b[1;31mTypeError\u001b[0m                                 Traceback (most recent call last)",
      "Cell \u001b[1;32mIn[12], line 1\u001b[0m\n\u001b[1;32m----> 1\u001b[0m n \u001b[38;5;241m=\u001b[39m {[\u001b[38;5;241m7\u001b[39m,\u001b[38;5;241m1000\u001b[39m,\u001b[38;5;241m7\u001b[39m]}\n\u001b[0;32m      2\u001b[0m \u001b[38;5;28mprint\u001b[39m(n)\n",
      "\u001b[1;31mTypeError\u001b[0m: unhashable type: 'list'"
     ]
    }
   ],
   "source": [
    "n = {[7,1000,7]}\n",
    "print(n)"
   ]
  },
  {
   "cell_type": "code",
   "execution_count": 15,
   "id": "b0ef08be-9999-484b-99ec-769d04ab6d36",
   "metadata": {},
   "outputs": [
    {
     "name": "stdout",
     "output_type": "stream",
     "text": [
      "{(7, 1000, 7)}\n",
      "<class 'set'>\n"
     ]
    }
   ],
   "source": [
    "n = {(7,1000,7)}\n",
    "print(n)\n",
    "print(type(n))"
   ]
  },
  {
   "cell_type": "code",
   "execution_count": null,
   "id": "6ee53305-9e01-490d-a555-9193adba2593",
   "metadata": {},
   "outputs": [],
   "source": []
  }
 ],
 "metadata": {
  "kernelspec": {
   "display_name": "Python 3 (ipykernel)",
   "language": "python",
   "name": "python3"
  },
  "language_info": {
   "codemirror_mode": {
    "name": "ipython",
    "version": 3
   },
   "file_extension": ".py",
   "mimetype": "text/x-python",
   "name": "python",
   "nbconvert_exporter": "python",
   "pygments_lexer": "ipython3",
   "version": "3.11.7"
  }
 },
 "nbformat": 4,
 "nbformat_minor": 5
}
