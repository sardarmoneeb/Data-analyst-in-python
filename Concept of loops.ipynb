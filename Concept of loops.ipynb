{
 "cells": [
  {
   "cell_type": "markdown",
   "id": "be2ac19e-dcb2-4593-9856-9144cc348990",
   "metadata": {},
   "source": [
    "# Concept of loops"
   ]
  },
  {
   "cell_type": "markdown",
   "id": "50e18699-d690-402a-a365-cb8ac9012564",
   "metadata": {},
   "source": [
    "# While loop"
   ]
  },
  {
   "cell_type": "markdown",
   "id": "657d25ba-388f-4aa6-9613-e76ab60587b3",
   "metadata": {},
   "source": [
    "# write a program to display numbers from 1 to 10?"
   ]
  },
  {
   "cell_type": "code",
   "execution_count": null,
   "id": "142f161b-96bf-4d24-85f7-8a926daa6af4",
   "metadata": {},
   "outputs": [],
   "source": [
    "i = 1\n",
    "n = 10\n",
    "while i<=n:\n",
    "    print(i)\n",
    "    i = i+1"
   ]
  },
  {
   "cell_type": "markdown",
   "id": "5e29afcc-6988-4abe-9146-acb12d09ab16",
   "metadata": {},
   "source": [
    "# Enter the value from user and make multiplication table till 10?"
   ]
  },
  {
   "cell_type": "code",
   "execution_count": null,
   "id": "9b9e1143-8b34-41ab-9c4d-8612f0bfd98d",
   "metadata": {},
   "outputs": [],
   "source": [
    "x = int(input(\"Enter a value\"))\n",
    "i=1\n",
    "while i<=10:\n",
    "    print(x*i)\n",
    "    i = i+1\n",
    "print(\"This is the multiplication table of 6\")\n",
    "    "
   ]
  },
  {
   "cell_type": "markdown",
   "id": "bc07557c-6e48-4799-94fb-e14dac0438c1",
   "metadata": {},
   "source": [
    "# write a program to calculate the sum of the first 10 natural numbers?"
   ]
  },
  {
   "cell_type": "code",
   "execution_count": null,
   "id": "f2d06902-46df-4850-b192-7503bccc064a",
   "metadata": {},
   "outputs": [],
   "source": [
    "# Solution for Sum of Natural Numbers\n",
    "n = 10\n",
    "sum = 0\n",
    "i = 1\n",
    "\n",
    "while i <= n:\n",
    "    sum += i\n",
    "    i += 1\n",
    "\n",
    "print(\"Sum of first 10 natural numbers is:\", sum)\n"
   ]
  },
  {
   "cell_type": "markdown",
   "id": "63991a4e-4218-458e-be47-418929e0db3d",
   "metadata": {},
   "source": [
    "# Write a Python program using a while loop that repeatedly asks the user to guess a number between 1 and 100 until they get it right. Assume the correct number is 42."
   ]
  },
  {
   "cell_type": "code",
   "execution_count": null,
   "id": "2eabc6b1-9f25-4486-9e51-aeaa50a61ab0",
   "metadata": {},
   "outputs": [],
   "source": [
    "# Solution for Guess the Number\n",
    "correct_number = 42\n",
    "guess = None\n",
    "\n",
    "while guess != correct_number:\n",
    "    guess = int(input(\"Guess a number between 1 and 100: \"))\n",
    "    if guess < correct_number:\n",
    "        print(\"Too low! Try again.\")\n",
    "    elif guess > correct_number:\n",
    "        print(\"Too high! Try again.\")\n",
    "\n",
    "print(\"Congratulations! You guessed the correct number.\")\n"
   ]
  },
  {
   "cell_type": "markdown",
   "id": "cb6c8d02-3d05-4ee5-9615-5729230ae4b2",
   "metadata": {},
   "source": [
    "# Write a Python program using a while loop to print the even numbers between 1 and 10."
   ]
  },
  {
   "cell_type": "code",
   "execution_count": null,
   "id": "798bb479-8bcc-403f-b88c-62fdbc79551f",
   "metadata": {},
   "outputs": [],
   "source": [
    "# Initialize the starting number\n",
    "num = 1\n",
    "\n",
    "# Use a while loop to iterate through numbers 1 to 10\n",
    "while num <= 10:\n",
    "    # Check if the number is even\n",
    "    if num % 2 == 0:\n",
    "        print(num)\n",
    "    # Increment the number by 1\n",
    "    num += 1"
   ]
  },
  {
   "cell_type": "markdown",
   "id": "7352e82b-29cc-40d9-8b82-acd9def9cdab",
   "metadata": {},
   "source": [
    "# Write a Python program using a while loop to print a countdown from 10 to 1."
   ]
  },
  {
   "cell_type": "code",
   "execution_count": null,
   "id": "7a82bd14-18b9-4a56-bb80-ff536296ffbd",
   "metadata": {},
   "outputs": [],
   "source": [
    "i = 10\n",
    "n = 1\n",
    "while i>=n:\n",
    "    print(i)\n",
    "    i=i-1"
   ]
  },
  {
   "cell_type": "markdown",
   "id": "01e2f773-9633-4d23-9e43-872143165be8",
   "metadata": {},
   "source": [
    "# Write a Python program using a while loop to print the odd numbers between 1 and 10."
   ]
  },
  {
   "cell_type": "code",
   "execution_count": null,
   "id": "95204909-fc12-4d24-8391-e8e556dba42b",
   "metadata": {},
   "outputs": [],
   "source": [
    "# Initialize the starting number\n",
    "num = 1\n",
    "\n",
    "# Use a while loop to iterate through numbers 1 to 10\n",
    "while num <= 10:\n",
    "    # Check if the number is even\n",
    "    if num % 3 == 0:\n",
    "        print(num)\n",
    "    # Increment the number by 1\n",
    "    num += 1"
   ]
  },
  {
   "cell_type": "markdown",
   "id": "13a1ae7d-7cd4-4c76-8bfd-92d17cc8b7e9",
   "metadata": {},
   "source": [
    "# Write a Python program using a while loop to calculate the sum of the digits of a given positive integer num."
   ]
  },
  {
   "cell_type": "code",
   "execution_count": null,
   "id": "66c4086a-6c77-4e79-bc58-8da58899195e",
   "metadata": {
    "scrolled": true
   },
   "outputs": [],
   "source": [
    "# Initialize the number\n",
    "num = 12345  # You can change this value to any positive integer\n",
    "sum_of_digits = 0\n",
    "\n",
    "# Use a while loop to calculate the sum of digits\n",
    "while num > 0:\n",
    "    digit = num % 10\n",
    "    sum_of_digits += digit\n",
    "    num //= 10\n",
    "\n",
    "print(\"Sum of digits:\", sum_of_digits)\n"
   ]
  },
  {
   "cell_type": "markdown",
   "id": "f59f04e9-69d6-4902-ae09-768fb672b556",
   "metadata": {},
   "source": [
    "# Write a Python program using a while loop to find and print the largest digit in a given positive integer num."
   ]
  },
  {
   "cell_type": "code",
   "execution_count": null,
   "id": "5745a72b-76b8-420d-85e3-d03bfce6f36b",
   "metadata": {},
   "outputs": [],
   "source": [
    "# Initialize the number\n",
    "num = 75943  # You can change this value to any positive integer\n",
    "largest_digit = 0\n",
    "\n",
    "# Use a while loop to find the largest digit\n",
    "while num > 0:\n",
    "    digit = num % 10\n",
    "    if digit > largest_digit:\n",
    "        largest_digit = digit\n",
    "    num //= 10\n",
    "\n",
    "print(\"The largest digit is:\", largest_digit)\n"
   ]
  },
  {
   "cell_type": "markdown",
   "id": "2523b45b-b559-4d24-b9cb-0d8bc8481b52",
   "metadata": {},
   "source": [
    " # Write a Python program using a while loop to find and print the largest digit in a given positive integer num."
   ]
  },
  {
   "cell_type": "code",
   "execution_count": null,
   "id": "f9871e91-4ef5-4713-a7cd-1da0f65184a6",
   "metadata": {},
   "outputs": [],
   "source": [
    "num = 76543\n",
    "largest_digit = 0\n",
    "while num>0:\n",
    "    digit = num%10\n",
    "    if digit>largest_digit:\n",
    "     largest_digit = digit\n",
    "    num//=10\n",
    "print(\"The largest digit is:\", largest_digit)\n"
   ]
  },
  {
   "cell_type": "code",
   "execution_count": null,
   "id": "111c92d2-c8dc-4ad1-92e0-475534b0478b",
   "metadata": {},
   "outputs": [],
   "source": [
    "# Initialize the number\n",
    "num = 12345  # You can change this value to any positive integer\n",
    "count = 0\n",
    "\n",
    "# Use a while loop to count the number of digits\n",
    "while num > 0:\n",
    "    num //= 10\n",
    "    count += 1\n",
    "\n",
    "print(\"The number of digits is:\", count)\n"
   ]
  },
  {
   "cell_type": "markdown",
   "id": "53508f46-4053-4da7-8ae9-7a01e7c4044e",
   "metadata": {},
   "source": [
    "# Write a Python program using a while loop to print the powers of 2 up to a given number n."
   ]
  },
  {
   "cell_type": "code",
   "execution_count": null,
   "id": "151cfc96-6359-475f-9640-67e5210ae5a3",
   "metadata": {},
   "outputs": [],
   "source": [
    "# Initialize the maximum number\n",
    "n = 81  # You can change this value to any positive integer\n",
    "power = 1\n",
    "\n",
    "# Use a while loop to print powers of 2\n",
    "while power <= n:\n",
    "    print(power)\n",
    "    power *= 3\n"
   ]
  },
  {
   "cell_type": "code",
   "execution_count": null,
   "id": "04f32c41-4fbb-4671-bf55-50e2b27769db",
   "metadata": {},
   "outputs": [],
   "source": [
    "n = 625\n",
    "power = 1\n",
    "while power <= n:\n",
    "    print(power)\n",
    "    power *= 5"
   ]
  },
  {
   "cell_type": "code",
   "execution_count": null,
   "id": "d697ea8a-e1c9-43fc-8eaf-038c7ab81bda",
   "metadata": {},
   "outputs": [],
   "source": [
    "n = 123456\n",
    "count= 0\n",
    "while n>0:\n",
    "    n // = 10\n",
    "    count +  = 1\n",
    "print(\"The number of digits is:\", count)"
   ]
  },
  {
   "cell_type": "markdown",
   "id": "39467f7d-dd3c-4847-bce0-859fbe603011",
   "metadata": {},
   "source": [
    "# For loop"
   ]
  },
  {
   "cell_type": "code",
   "execution_count": 35,
   "id": "291de7a7-706c-4a9c-a62f-bc904962a2f8",
   "metadata": {},
   "outputs": [
    {
     "name": "stdout",
     "output_type": "stream",
     "text": [
      "The sum of values are 15\n"
     ]
    }
   ],
   "source": [
    "number = [1,2,3,4,5]\n",
    "sum = 0\n",
    "for number in range(6):\n",
    "    sum+=number\n",
    "print(\"The sum of values are\",sum)"
   ]
  },
  {
   "cell_type": "code",
   "execution_count": 9,
   "id": "41ef4bec-9829-471e-814b-eecd63326d46",
   "metadata": {},
   "outputs": [
    {
     "name": "stdout",
     "output_type": "stream",
     "text": [
      "This is the multiplication table of 5\n",
      "5 x 1 = 5\n",
      "5 x 2 = 10\n",
      "5 x 3 = 15\n",
      "5 x 4 = 20\n",
      "5 x 5 = 25\n",
      "5 x 6 = 30\n",
      "5 x 7 = 35\n",
      "5 x 8 = 40\n",
      "5 x 9 = 45\n",
      "5 x 10 = 50\n"
     ]
    }
   ],
   "source": [
    "n =5\n",
    "i = 1\n",
    "print(\"This is the multiplication table of 5\")\n",
    "for i in range(1,11):\n",
    "    print(f\"{n} x {i} = {n * i}\")\n",
    "    i+=1\n",
    "\n"
   ]
  },
  {
   "cell_type": "code",
   "execution_count": null,
   "id": "efc082d1-03d7-4f02-b6e3-f83198570fef",
   "metadata": {},
   "outputs": [],
   "source": [
    "# Given list of numbers\n",
    "numbers = [1, 2, 3, 4, 5]\n",
    "\n",
    "# Initialize the sum variable\n",
    "total_sum = 0\n",
    "\n",
    "# Use a for loop to iterate through each number in the list\n",
    "for num in numbers:\n",
    "    total_sum += num\n",
    "\n",
    "# Print the total sum\n",
    "print(\"The sum of all numbers in the list is:\", total_sum)\n"
   ]
  },
  {
   "cell_type": "markdown",
   "id": "5c4c0be4-a9bc-46b3-b71f-73f26f707f41",
   "metadata": {},
   "source": [
    "# Write a Python program using a for loop to print each element in the list fruits = [\"apple\", \"banana\", \"cherry\"]."
   ]
  },
  {
   "cell_type": "code",
   "execution_count": null,
   "id": "6926d53c-dcec-44e3-8bf6-770463e8be98",
   "metadata": {},
   "outputs": [],
   "source": [
    "# List of fruits\n",
    "fruits = [\"apple\", \"banana\", \"cherry\"]\n",
    "\n",
    "# Use a for loop to iterate through each element in the list\n",
    "for fruit in fruits:\n",
    "    print(fruit)\n",
    "\n",
    "    "
   ]
  },
  {
   "cell_type": "markdown",
   "id": "820810c0-72b6-4e2f-8cbc-c10f12a2d717",
   "metadata": {},
   "source": [
    "# Write a Python program using a for loop to print each character in the string \"hello\"."
   ]
  },
  {
   "cell_type": "code",
   "execution_count": 2,
   "id": "1272b6af-563e-48f8-863d-4824abf6a722",
   "metadata": {},
   "outputs": [
    {
     "name": "stdout",
     "output_type": "stream",
     "text": [
      "h\n",
      "e\n",
      "l\n",
      "l\n",
      "o\n"
     ]
    }
   ],
   "source": [
    "# String to iterate over\n",
    "string = \"hello\"\n",
    "\n",
    "# Use a for loop to iterate through each character in the string\n",
    "for char in string:\n",
    "    print(char)\n"
   ]
  },
  {
   "cell_type": "markdown",
   "id": "c2bb3e8e-c1bf-4323-bde2-dfd0a9e2c1a9",
   "metadata": {},
   "source": [
    "# Write a Python program using a for loop to print the squares of numbers from 1 to 5."
   ]
  },
  {
   "cell_type": "code",
   "execution_count": 34,
   "id": "491abdd9-8ba4-4468-b9f3-2d6f4d8726a7",
   "metadata": {},
   "outputs": [
    {
     "name": "stdout",
     "output_type": "stream",
     "text": [
      "The square of the numbers are 25\n"
     ]
    }
   ],
   "source": [
    "numbers = [1,2,3,4,5]\n",
    "square = 0\n",
    "for number in numbers:\n",
    "    square=number*number\n",
    "print(\"The square of the numbers are\",square)"
   ]
  },
  {
   "cell_type": "code",
   "execution_count": 8,
   "id": "d95c129b-f8d0-4f8e-8c22-5d77b5bafa55",
   "metadata": {},
   "outputs": [
    {
     "name": "stdout",
     "output_type": "stream",
     "text": [
      "The cube of number is 1\n",
      "The cube of number is 8\n",
      "The cube of number is 27\n",
      "The cube of number is 64\n",
      "The cube of number is 125\n"
     ]
    }
   ],
   "source": [
    "number = [1,2,3,4,5]\n",
    "cube = 0\n",
    "for numbers in number:\n",
    "    cube = numbers*numbers*numbers\n",
    "    print(\"The cube of number is\",cube)\n"
   ]
  },
  {
   "cell_type": "markdown",
   "id": "0a1e4a0b-6b1a-420d-97ec-da67890ab335",
   "metadata": {},
   "source": [
    "# Write a Python program using a for loop to calculate the sum of all elements in a given list numbers = [10, 20, 30, 40, 50]."
   ]
  },
  {
   "cell_type": "code",
   "execution_count": 14,
   "id": "c856dfcc-cffd-4fc8-9452-6567b2e57e0f",
   "metadata": {},
   "outputs": [
    {
     "name": "stdout",
     "output_type": "stream",
     "text": [
      "The total sum of numbers is 10\n",
      "The total sum of numbers is 30\n",
      "The total sum of numbers is 60\n",
      "The total sum of numbers is 100\n",
      "The total sum of numbers is 150\n"
     ]
    }
   ],
   "source": [
    "numbers = [10,20,30,40,50]\n",
    "total_sum = 0\n",
    "for number in numbers:\n",
    "    total_sum += number\n",
    "    print(\"The total sum of numbers is\",total_sum)"
   ]
  },
  {
   "cell_type": "markdown",
   "id": "9a39e843-4027-4643-93c1-d63fa20785ae",
   "metadata": {},
   "source": [
    "# Write a Python program using a for loop to calculate the factorial of a given positive integer n"
   ]
  },
  {
   "cell_type": "code",
   "execution_count": 15,
   "id": "b2fea5f1-56a1-41f6-bdef-d564879c26d3",
   "metadata": {},
   "outputs": [
    {
     "name": "stdout",
     "output_type": "stream",
     "text": [
      "The factorial of 5 is: 120\n"
     ]
    }
   ],
   "source": [
    "# Given positive integer\n",
    "n = 5  # You can change this value to calculate the factorial of any other positive integer\n",
    "\n",
    "# Initialize the factorial variable\n",
    "factorial = 1\n",
    "\n",
    "# Use a for loop to calculate the factorial\n",
    "for i in range(1, n + 1):\n",
    "    factorial *= i\n",
    "\n",
    "# Print the factorial\n",
    "print(f\"The factorial of {n} is: {factorial}\")\n"
   ]
  },
  {
   "cell_type": "code",
   "execution_count": 18,
   "id": "4675c8f0-a453-4ddc-8844-92528ea050c5",
   "metadata": {},
   "outputs": [
    {
     "name": "stdout",
     "output_type": "stream",
     "text": [
      "The factorial of 6 is: 720\n"
     ]
    }
   ],
   "source": [
    "n = 6\n",
    "factorial = 1\n",
    "for i in range(1,n+1):\n",
    "    factorial*=i\n",
    "print(f\"The factorial of {n} is: {factorial}\")"
   ]
  },
  {
   "cell_type": "code",
   "execution_count": 24,
   "id": "dc32f150-ea36-4b7e-b390-6f3f5857ee50",
   "metadata": {},
   "outputs": [
    {
     "name": "stdout",
     "output_type": "stream",
     "text": [
      "8 * 1  : 8\n",
      "8 * 2  : 16\n",
      "8 * 3  : 24\n",
      "8 * 4  : 32\n",
      "8 * 5  : 40\n",
      "8 * 6  : 48\n",
      "8 * 7  : 56\n",
      "8 * 8  : 64\n",
      "8 * 9  : 72\n",
      "8 * 10  : 80\n"
     ]
    }
   ],
   "source": [
    "n = 8\n",
    "i = 1\n",
    "for i in range(1,11):\n",
    "    print(f\"{n} * {i}  : {n*i}\")"
   ]
  },
  {
   "cell_type": "code",
   "execution_count": 33,
   "id": "8c47d992-58ce-44f7-a329-caf2065fa51f",
   "metadata": {},
   "outputs": [
    {
     "name": "stdout",
     "output_type": "stream",
     "text": [
      "the factorial of 6 is : 720\n"
     ]
    }
   ],
   "source": [
    "n = 6\n",
    "factorial = 1\n",
    "for i in range(1,n+1):\n",
    "    factorial *= i\n",
    "print(f\"the factorial of {n} is : {factorial}\")"
   ]
  },
  {
   "cell_type": "code",
   "execution_count": null,
   "id": "f38feee8-779c-4975-9a81-c0316a733197",
   "metadata": {},
   "outputs": [],
   "source": []
  },
  {
   "cell_type": "code",
   "execution_count": null,
   "id": "9fc6f4c5-3855-4b6f-814c-717a810a5aae",
   "metadata": {},
   "outputs": [],
   "source": []
  }
 ],
 "metadata": {
  "kernelspec": {
   "display_name": "Python 3 (ipykernel)",
   "language": "python",
   "name": "python3"
  },
  "language_info": {
   "codemirror_mode": {
    "name": "ipython",
    "version": 3
   },
   "file_extension": ".py",
   "mimetype": "text/x-python",
   "name": "python",
   "nbconvert_exporter": "python",
   "pygments_lexer": "ipython3",
   "version": "3.11.7"
  }
 },
 "nbformat": 4,
 "nbformat_minor": 5
}
