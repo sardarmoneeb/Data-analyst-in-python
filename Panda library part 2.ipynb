{
 "cells": [
  {
   "cell_type": "markdown",
   "id": "6d7357b1-8e49-48d3-baf0-74fb71ec1dfc",
   "metadata": {},
   "source": [
    "# pandas library"
   ]
  },
  {
   "cell_type": "code",
   "execution_count": 1,
   "id": "a510c9b4-6342-445f-b12c-f5916a6b1874",
   "metadata": {},
   "outputs": [
    {
     "name": "stdout",
     "output_type": "stream",
     "text": [
      "     Name  Age          City\n",
      "0    John   28      New York\n",
      "1   Alice   25   Los Angeles\n",
      "2     Bob   32       Chicago\n",
      "3     Eve   30       Houston\n",
      "4  moneeb   40         kotli\n",
      "5   saran   67     Rawalakot\n",
      "6   abdul   12  Muzaffarabad\n",
      "7   wahab   76         Pindi\n",
      "8   bilal   78        Pounch\n"
     ]
    }
   ],
   "source": [
    "import pandas as pd\n",
    "data = {\n",
    "    'Name': ['John', 'Alice', 'Bob', 'Eve','moneeb','saran','abdul','wahab','bilal'],\n",
    "    'Age': [28, 25, 32, 30,40,67,12,76,78],\n",
    "    'City': ['New York', 'Los Angeles', 'Chicago', 'Houston','kotli','Rawalakot','Muzaffarabad','Pindi','Pounch']\n",
    "}\n",
    "\n",
    "df = pd.DataFrame(data)\n",
    "print(df)"
   ]
  },
  {
   "cell_type": "code",
   "execution_count": 2,
   "id": "19ae9591-4e56-49c8-937a-3a0581455d3d",
   "metadata": {},
   "outputs": [
    {
     "data": {
      "text/plain": [
       "Index(['Name', 'Age', 'City'], dtype='object')"
      ]
     },
     "execution_count": 2,
     "metadata": {},
     "output_type": "execute_result"
    }
   ],
   "source": [
    "df.columns"
   ]
  },
  {
   "cell_type": "code",
   "execution_count": 3,
   "id": "2e21ead1-9c1d-4c15-983c-a8c6877b38d7",
   "metadata": {},
   "outputs": [
    {
     "data": {
      "text/plain": [
       "0      John\n",
       "1     Alice\n",
       "2       Bob\n",
       "3       Eve\n",
       "4    moneeb\n",
       "5     saran\n",
       "6     abdul\n",
       "7     wahab\n",
       "8     bilal\n",
       "Name: Name, dtype: object"
      ]
     },
     "execution_count": 3,
     "metadata": {},
     "output_type": "execute_result"
    }
   ],
   "source": [
    "df['Name']"
   ]
  },
  {
   "cell_type": "code",
   "execution_count": 4,
   "id": "5966146f-f687-4388-bbed-aa37ef3a0ef4",
   "metadata": {},
   "outputs": [],
   "source": [
    "a = df['Name'][0:5]"
   ]
  },
  {
   "cell_type": "code",
   "execution_count": 5,
   "id": "c0784c47-5625-4dab-9835-ec43af9b4f52",
   "metadata": {},
   "outputs": [
    {
     "data": {
      "text/plain": [
       "0      John\n",
       "1     Alice\n",
       "2       Bob\n",
       "3       Eve\n",
       "4    moneeb\n",
       "Name: Name, dtype: object"
      ]
     },
     "execution_count": 5,
     "metadata": {},
     "output_type": "execute_result"
    }
   ],
   "source": [
    "a"
   ]
  },
  {
   "cell_type": "code",
   "execution_count": 6,
   "id": "239e7cd6-808d-4fd5-a8e3-030ac65de572",
   "metadata": {},
   "outputs": [
    {
     "data": {
      "text/plain": [
       "pandas.core.series.Series"
      ]
     },
     "execution_count": 6,
     "metadata": {},
     "output_type": "execute_result"
    }
   ],
   "source": [
    "type(a)"
   ]
  },
  {
   "cell_type": "code",
   "execution_count": 7,
   "id": "b05603c7-1202-4b8d-b6a5-98a5cb8a9670",
   "metadata": {},
   "outputs": [
    {
     "name": "stdout",
     "output_type": "stream",
     "text": [
      "1    100\n",
      "2    200\n",
      "3    300\n",
      "4    400\n",
      "5    500\n",
      "dtype: int64\n"
     ]
    }
   ],
   "source": [
    "m1 = pd.Series([100,200,300,400,500],index = [1,2,3,4,5])\n",
    "print(m1)"
   ]
  },
  {
   "cell_type": "code",
   "execution_count": 8,
   "id": "2db815c9-3c01-4381-8c66-75f74b4b7221",
   "metadata": {},
   "outputs": [
    {
     "name": "stdout",
     "output_type": "stream",
     "text": [
      "1     600\n",
      "2     700\n",
      "3     800\n",
      "4     900\n",
      "5    1000\n",
      "dtype: int64\n"
     ]
    }
   ],
   "source": [
    "m2 = pd.Series([600,700,800,900,1000], index = [1,2,3,4,5])\n",
    "print(m2)"
   ]
  },
  {
   "cell_type": "markdown",
   "id": "8a9786a4-00ad-45c0-b21c-4196aa1ec377",
   "metadata": {},
   "source": [
    "# Concatenating two variables in pandas"
   ]
  },
  {
   "cell_type": "code",
   "execution_count": 9,
   "id": "f5ad8161-038c-4ffc-9088-e90ed1cfe000",
   "metadata": {},
   "outputs": [
    {
     "name": "stdout",
     "output_type": "stream",
     "text": [
      "1     100\n",
      "2     200\n",
      "3     300\n",
      "4     400\n",
      "5     500\n",
      "1     600\n",
      "2     700\n",
      "3     800\n",
      "4     900\n",
      "5    1000\n",
      "dtype: int64\n"
     ]
    }
   ],
   "source": [
    "m3 = pd.concat([m1,m2])\n",
    "print(m3)"
   ]
  },
  {
   "cell_type": "code",
   "execution_count": 10,
   "id": "f38c0c3c-5bc9-4b04-81aa-5d92cf46bb01",
   "metadata": {},
   "outputs": [
    {
     "data": {
      "text/plain": [
       "1    100\n",
       "1    600\n",
       "dtype: int64"
      ]
     },
     "execution_count": 10,
     "metadata": {},
     "output_type": "execute_result"
    }
   ],
   "source": [
    "m3[1]"
   ]
  },
  {
   "cell_type": "code",
   "execution_count": 11,
   "id": "319544da-4728-4fbe-af6d-60316fe8ae7e",
   "metadata": {},
   "outputs": [
    {
     "data": {
      "text/plain": [
       "5     500\n",
       "5    1000\n",
       "dtype: int64"
      ]
     },
     "execution_count": 11,
     "metadata": {},
     "output_type": "execute_result"
    }
   ],
   "source": [
    "m3[5]"
   ]
  },
  {
   "cell_type": "code",
   "execution_count": 12,
   "id": "c08bf2cc-0591-4b69-b102-34dc66cf9dce",
   "metadata": {},
   "outputs": [
    {
     "data": {
      "text/plain": [
       "1     60000\n",
       "2    140000\n",
       "3    240000\n",
       "4    360000\n",
       "5    500000\n",
       "dtype: int64"
      ]
     },
     "execution_count": 12,
     "metadata": {},
     "output_type": "execute_result"
    }
   ],
   "source": [
    "m1*m2"
   ]
  },
  {
   "cell_type": "code",
   "execution_count": 13,
   "id": "bdd1f275-c4a4-4fde-a1bd-609f30a15324",
   "metadata": {},
   "outputs": [
    {
     "data": {
      "text/plain": [
       "1     700\n",
       "2     900\n",
       "3    1100\n",
       "4    1300\n",
       "5    1500\n",
       "dtype: int64"
      ]
     },
     "execution_count": 13,
     "metadata": {},
     "output_type": "execute_result"
    }
   ],
   "source": [
    "m1+m2"
   ]
  },
  {
   "cell_type": "code",
   "execution_count": 14,
   "id": "87200b64-a93b-42d9-b294-106cbe38b539",
   "metadata": {},
   "outputs": [
    {
     "data": {
      "text/html": [
       "<div>\n",
       "<style scoped>\n",
       "    .dataframe tbody tr th:only-of-type {\n",
       "        vertical-align: middle;\n",
       "    }\n",
       "\n",
       "    .dataframe tbody tr th {\n",
       "        vertical-align: top;\n",
       "    }\n",
       "\n",
       "    .dataframe thead th {\n",
       "        text-align: right;\n",
       "    }\n",
       "</style>\n",
       "<table border=\"1\" class=\"dataframe\">\n",
       "  <thead>\n",
       "    <tr style=\"text-align: right;\">\n",
       "      <th></th>\n",
       "      <th>Name</th>\n",
       "      <th>Age</th>\n",
       "      <th>City</th>\n",
       "    </tr>\n",
       "  </thead>\n",
       "  <tbody>\n",
       "    <tr>\n",
       "      <th>0</th>\n",
       "      <td>John</td>\n",
       "      <td>28</td>\n",
       "      <td>New York</td>\n",
       "    </tr>\n",
       "    <tr>\n",
       "      <th>1</th>\n",
       "      <td>Alice</td>\n",
       "      <td>25</td>\n",
       "      <td>Los Angeles</td>\n",
       "    </tr>\n",
       "    <tr>\n",
       "      <th>2</th>\n",
       "      <td>Bob</td>\n",
       "      <td>32</td>\n",
       "      <td>Chicago</td>\n",
       "    </tr>\n",
       "    <tr>\n",
       "      <th>3</th>\n",
       "      <td>Eve</td>\n",
       "      <td>30</td>\n",
       "      <td>Houston</td>\n",
       "    </tr>\n",
       "    <tr>\n",
       "      <th>4</th>\n",
       "      <td>moneeb</td>\n",
       "      <td>40</td>\n",
       "      <td>kotli</td>\n",
       "    </tr>\n",
       "    <tr>\n",
       "      <th>5</th>\n",
       "      <td>saran</td>\n",
       "      <td>67</td>\n",
       "      <td>Rawalakot</td>\n",
       "    </tr>\n",
       "    <tr>\n",
       "      <th>6</th>\n",
       "      <td>abdul</td>\n",
       "      <td>12</td>\n",
       "      <td>Muzaffarabad</td>\n",
       "    </tr>\n",
       "    <tr>\n",
       "      <th>7</th>\n",
       "      <td>wahab</td>\n",
       "      <td>76</td>\n",
       "      <td>Pindi</td>\n",
       "    </tr>\n",
       "    <tr>\n",
       "      <th>8</th>\n",
       "      <td>bilal</td>\n",
       "      <td>78</td>\n",
       "      <td>Pounch</td>\n",
       "    </tr>\n",
       "  </tbody>\n",
       "</table>\n",
       "</div>"
      ],
      "text/plain": [
       "     Name  Age          City\n",
       "0    John   28      New York\n",
       "1   Alice   25   Los Angeles\n",
       "2     Bob   32       Chicago\n",
       "3     Eve   30       Houston\n",
       "4  moneeb   40         kotli\n",
       "5   saran   67     Rawalakot\n",
       "6   abdul   12  Muzaffarabad\n",
       "7   wahab   76         Pindi\n",
       "8   bilal   78        Pounch"
      ]
     },
     "execution_count": 14,
     "metadata": {},
     "output_type": "execute_result"
    }
   ],
   "source": [
    "df"
   ]
  },
  {
   "cell_type": "markdown",
   "id": "c12e5723-a6b8-42f3-8a71-318cd428a913",
   "metadata": {},
   "source": [
    "# Delete column"
   ]
  },
  {
   "cell_type": "code",
   "execution_count": 15,
   "id": "a7f802af-86b6-4779-b4a7-22fa5c5e8271",
   "metadata": {},
   "outputs": [
    {
     "data": {
      "text/html": [
       "<div>\n",
       "<style scoped>\n",
       "    .dataframe tbody tr th:only-of-type {\n",
       "        vertical-align: middle;\n",
       "    }\n",
       "\n",
       "    .dataframe tbody tr th {\n",
       "        vertical-align: top;\n",
       "    }\n",
       "\n",
       "    .dataframe thead th {\n",
       "        text-align: right;\n",
       "    }\n",
       "</style>\n",
       "<table border=\"1\" class=\"dataframe\">\n",
       "  <thead>\n",
       "    <tr style=\"text-align: right;\">\n",
       "      <th></th>\n",
       "      <th>Age</th>\n",
       "      <th>City</th>\n",
       "    </tr>\n",
       "  </thead>\n",
       "  <tbody>\n",
       "    <tr>\n",
       "      <th>0</th>\n",
       "      <td>28</td>\n",
       "      <td>New York</td>\n",
       "    </tr>\n",
       "    <tr>\n",
       "      <th>1</th>\n",
       "      <td>25</td>\n",
       "      <td>Los Angeles</td>\n",
       "    </tr>\n",
       "    <tr>\n",
       "      <th>2</th>\n",
       "      <td>32</td>\n",
       "      <td>Chicago</td>\n",
       "    </tr>\n",
       "    <tr>\n",
       "      <th>3</th>\n",
       "      <td>30</td>\n",
       "      <td>Houston</td>\n",
       "    </tr>\n",
       "    <tr>\n",
       "      <th>4</th>\n",
       "      <td>40</td>\n",
       "      <td>kotli</td>\n",
       "    </tr>\n",
       "    <tr>\n",
       "      <th>5</th>\n",
       "      <td>67</td>\n",
       "      <td>Rawalakot</td>\n",
       "    </tr>\n",
       "    <tr>\n",
       "      <th>6</th>\n",
       "      <td>12</td>\n",
       "      <td>Muzaffarabad</td>\n",
       "    </tr>\n",
       "    <tr>\n",
       "      <th>7</th>\n",
       "      <td>76</td>\n",
       "      <td>Pindi</td>\n",
       "    </tr>\n",
       "    <tr>\n",
       "      <th>8</th>\n",
       "      <td>78</td>\n",
       "      <td>Pounch</td>\n",
       "    </tr>\n",
       "  </tbody>\n",
       "</table>\n",
       "</div>"
      ],
      "text/plain": [
       "   Age          City\n",
       "0   28      New York\n",
       "1   25   Los Angeles\n",
       "2   32       Chicago\n",
       "3   30       Houston\n",
       "4   40         kotli\n",
       "5   67     Rawalakot\n",
       "6   12  Muzaffarabad\n",
       "7   76         Pindi\n",
       "8   78        Pounch"
      ]
     },
     "execution_count": 15,
     "metadata": {},
     "output_type": "execute_result"
    }
   ],
   "source": [
    "df.drop(\"Name\",axis = 1)"
   ]
  },
  {
   "cell_type": "code",
   "execution_count": 16,
   "id": "3e8d87e4-3444-4969-a06a-adc9fc871767",
   "metadata": {},
   "outputs": [
    {
     "data": {
      "text/html": [
       "<div>\n",
       "<style scoped>\n",
       "    .dataframe tbody tr th:only-of-type {\n",
       "        vertical-align: middle;\n",
       "    }\n",
       "\n",
       "    .dataframe tbody tr th {\n",
       "        vertical-align: top;\n",
       "    }\n",
       "\n",
       "    .dataframe thead th {\n",
       "        text-align: right;\n",
       "    }\n",
       "</style>\n",
       "<table border=\"1\" class=\"dataframe\">\n",
       "  <thead>\n",
       "    <tr style=\"text-align: right;\">\n",
       "      <th></th>\n",
       "      <th>Name</th>\n",
       "      <th>Age</th>\n",
       "      <th>City</th>\n",
       "    </tr>\n",
       "  </thead>\n",
       "  <tbody>\n",
       "    <tr>\n",
       "      <th>0</th>\n",
       "      <td>John</td>\n",
       "      <td>28</td>\n",
       "      <td>New York</td>\n",
       "    </tr>\n",
       "    <tr>\n",
       "      <th>1</th>\n",
       "      <td>Alice</td>\n",
       "      <td>25</td>\n",
       "      <td>Los Angeles</td>\n",
       "    </tr>\n",
       "    <tr>\n",
       "      <th>2</th>\n",
       "      <td>Bob</td>\n",
       "      <td>32</td>\n",
       "      <td>Chicago</td>\n",
       "    </tr>\n",
       "    <tr>\n",
       "      <th>3</th>\n",
       "      <td>Eve</td>\n",
       "      <td>30</td>\n",
       "      <td>Houston</td>\n",
       "    </tr>\n",
       "    <tr>\n",
       "      <th>4</th>\n",
       "      <td>moneeb</td>\n",
       "      <td>40</td>\n",
       "      <td>kotli</td>\n",
       "    </tr>\n",
       "  </tbody>\n",
       "</table>\n",
       "</div>"
      ],
      "text/plain": [
       "     Name  Age         City\n",
       "0    John   28     New York\n",
       "1   Alice   25  Los Angeles\n",
       "2     Bob   32      Chicago\n",
       "3     Eve   30      Houston\n",
       "4  moneeb   40        kotli"
      ]
     },
     "execution_count": 16,
     "metadata": {},
     "output_type": "execute_result"
    }
   ],
   "source": [
    "df.head()"
   ]
  },
  {
   "cell_type": "markdown",
   "id": "1e07b218-0851-4436-9dc1-ba737c87b2af",
   "metadata": {},
   "source": [
    "# For parmanently delete column"
   ]
  },
  {
   "cell_type": "code",
   "execution_count": 17,
   "id": "a02de841-a5ea-4961-99a5-7dc1cf8bd755",
   "metadata": {},
   "outputs": [],
   "source": [
    "df.drop(\"Name\",axis = 1, inplace = True)"
   ]
  },
  {
   "cell_type": "code",
   "execution_count": 18,
   "id": "92ab3f7c-e03a-47d6-9269-7c757af0d3f2",
   "metadata": {},
   "outputs": [
    {
     "data": {
      "text/html": [
       "<div>\n",
       "<style scoped>\n",
       "    .dataframe tbody tr th:only-of-type {\n",
       "        vertical-align: middle;\n",
       "    }\n",
       "\n",
       "    .dataframe tbody tr th {\n",
       "        vertical-align: top;\n",
       "    }\n",
       "\n",
       "    .dataframe thead th {\n",
       "        text-align: right;\n",
       "    }\n",
       "</style>\n",
       "<table border=\"1\" class=\"dataframe\">\n",
       "  <thead>\n",
       "    <tr style=\"text-align: right;\">\n",
       "      <th></th>\n",
       "      <th>Age</th>\n",
       "      <th>City</th>\n",
       "    </tr>\n",
       "  </thead>\n",
       "  <tbody>\n",
       "    <tr>\n",
       "      <th>0</th>\n",
       "      <td>28</td>\n",
       "      <td>New York</td>\n",
       "    </tr>\n",
       "    <tr>\n",
       "      <th>1</th>\n",
       "      <td>25</td>\n",
       "      <td>Los Angeles</td>\n",
       "    </tr>\n",
       "    <tr>\n",
       "      <th>2</th>\n",
       "      <td>32</td>\n",
       "      <td>Chicago</td>\n",
       "    </tr>\n",
       "    <tr>\n",
       "      <th>3</th>\n",
       "      <td>30</td>\n",
       "      <td>Houston</td>\n",
       "    </tr>\n",
       "    <tr>\n",
       "      <th>4</th>\n",
       "      <td>40</td>\n",
       "      <td>kotli</td>\n",
       "    </tr>\n",
       "    <tr>\n",
       "      <th>5</th>\n",
       "      <td>67</td>\n",
       "      <td>Rawalakot</td>\n",
       "    </tr>\n",
       "    <tr>\n",
       "      <th>6</th>\n",
       "      <td>12</td>\n",
       "      <td>Muzaffarabad</td>\n",
       "    </tr>\n",
       "    <tr>\n",
       "      <th>7</th>\n",
       "      <td>76</td>\n",
       "      <td>Pindi</td>\n",
       "    </tr>\n",
       "    <tr>\n",
       "      <th>8</th>\n",
       "      <td>78</td>\n",
       "      <td>Pounch</td>\n",
       "    </tr>\n",
       "  </tbody>\n",
       "</table>\n",
       "</div>"
      ],
      "text/plain": [
       "   Age          City\n",
       "0   28      New York\n",
       "1   25   Los Angeles\n",
       "2   32       Chicago\n",
       "3   30       Houston\n",
       "4   40         kotli\n",
       "5   67     Rawalakot\n",
       "6   12  Muzaffarabad\n",
       "7   76         Pindi\n",
       "8   78        Pounch"
      ]
     },
     "execution_count": 18,
     "metadata": {},
     "output_type": "execute_result"
    }
   ],
   "source": [
    "df"
   ]
  },
  {
   "cell_type": "markdown",
   "id": "ad1a9a74-8c07-40f0-a6cd-a00e2dace8e2",
   "metadata": {},
   "source": [
    "# Delete a row"
   ]
  },
  {
   "cell_type": "code",
   "execution_count": 22,
   "id": "733d3ef1-7608-4c6b-b661-556d9ad83f07",
   "metadata": {},
   "outputs": [
    {
     "data": {
      "text/html": [
       "<div>\n",
       "<style scoped>\n",
       "    .dataframe tbody tr th:only-of-type {\n",
       "        vertical-align: middle;\n",
       "    }\n",
       "\n",
       "    .dataframe tbody tr th {\n",
       "        vertical-align: top;\n",
       "    }\n",
       "\n",
       "    .dataframe thead th {\n",
       "        text-align: right;\n",
       "    }\n",
       "</style>\n",
       "<table border=\"1\" class=\"dataframe\">\n",
       "  <thead>\n",
       "    <tr style=\"text-align: right;\">\n",
       "      <th></th>\n",
       "      <th>Name</th>\n",
       "      <th>Age</th>\n",
       "      <th>City</th>\n",
       "    </tr>\n",
       "  </thead>\n",
       "  <tbody>\n",
       "    <tr>\n",
       "      <th>0</th>\n",
       "      <td>Moneeb</td>\n",
       "      <td>28</td>\n",
       "      <td>New York</td>\n",
       "    </tr>\n",
       "    <tr>\n",
       "      <th>1</th>\n",
       "      <td>Moneeb</td>\n",
       "      <td>25</td>\n",
       "      <td>Los Angeles</td>\n",
       "    </tr>\n",
       "    <tr>\n",
       "      <th>2</th>\n",
       "      <td>Moneeb</td>\n",
       "      <td>32</td>\n",
       "      <td>Chicago</td>\n",
       "    </tr>\n",
       "    <tr>\n",
       "      <th>4</th>\n",
       "      <td>Moneeb</td>\n",
       "      <td>40</td>\n",
       "      <td>kotli</td>\n",
       "    </tr>\n",
       "    <tr>\n",
       "      <th>5</th>\n",
       "      <td>Moneeb</td>\n",
       "      <td>67</td>\n",
       "      <td>Rawalakot</td>\n",
       "    </tr>\n",
       "    <tr>\n",
       "      <th>6</th>\n",
       "      <td>Moneeb</td>\n",
       "      <td>12</td>\n",
       "      <td>Muzaffarabad</td>\n",
       "    </tr>\n",
       "    <tr>\n",
       "      <th>7</th>\n",
       "      <td>Moneeb</td>\n",
       "      <td>76</td>\n",
       "      <td>Pindi</td>\n",
       "    </tr>\n",
       "    <tr>\n",
       "      <th>8</th>\n",
       "      <td>Moneeb</td>\n",
       "      <td>78</td>\n",
       "      <td>Pounch</td>\n",
       "    </tr>\n",
       "  </tbody>\n",
       "</table>\n",
       "</div>"
      ],
      "text/plain": [
       "     Name  Age          City\n",
       "0  Moneeb   28      New York\n",
       "1  Moneeb   25   Los Angeles\n",
       "2  Moneeb   32       Chicago\n",
       "4  Moneeb   40         kotli\n",
       "5  Moneeb   67     Rawalakot\n",
       "6  Moneeb   12  Muzaffarabad\n",
       "7  Moneeb   76         Pindi\n",
       "8  Moneeb   78        Pounch"
      ]
     },
     "execution_count": 22,
     "metadata": {},
     "output_type": "execute_result"
    }
   ],
   "source": [
    "df.drop(3)"
   ]
  },
  {
   "cell_type": "code",
   "execution_count": 20,
   "id": "76a40516-8de2-4378-acbf-b1a3028ce8a4",
   "metadata": {},
   "outputs": [],
   "source": [
    "df.insert(loc = 0,column = 'Name',value = 'Moneeb')"
   ]
  },
  {
   "cell_type": "code",
   "execution_count": 21,
   "id": "93acc329-1ec2-44da-af9c-0bb0cdb444cc",
   "metadata": {},
   "outputs": [
    {
     "data": {
      "text/html": [
       "<div>\n",
       "<style scoped>\n",
       "    .dataframe tbody tr th:only-of-type {\n",
       "        vertical-align: middle;\n",
       "    }\n",
       "\n",
       "    .dataframe tbody tr th {\n",
       "        vertical-align: top;\n",
       "    }\n",
       "\n",
       "    .dataframe thead th {\n",
       "        text-align: right;\n",
       "    }\n",
       "</style>\n",
       "<table border=\"1\" class=\"dataframe\">\n",
       "  <thead>\n",
       "    <tr style=\"text-align: right;\">\n",
       "      <th></th>\n",
       "      <th>Name</th>\n",
       "      <th>Age</th>\n",
       "      <th>City</th>\n",
       "    </tr>\n",
       "  </thead>\n",
       "  <tbody>\n",
       "    <tr>\n",
       "      <th>0</th>\n",
       "      <td>Moneeb</td>\n",
       "      <td>28</td>\n",
       "      <td>New York</td>\n",
       "    </tr>\n",
       "    <tr>\n",
       "      <th>1</th>\n",
       "      <td>Moneeb</td>\n",
       "      <td>25</td>\n",
       "      <td>Los Angeles</td>\n",
       "    </tr>\n",
       "    <tr>\n",
       "      <th>2</th>\n",
       "      <td>Moneeb</td>\n",
       "      <td>32</td>\n",
       "      <td>Chicago</td>\n",
       "    </tr>\n",
       "    <tr>\n",
       "      <th>3</th>\n",
       "      <td>Moneeb</td>\n",
       "      <td>30</td>\n",
       "      <td>Houston</td>\n",
       "    </tr>\n",
       "    <tr>\n",
       "      <th>4</th>\n",
       "      <td>Moneeb</td>\n",
       "      <td>40</td>\n",
       "      <td>kotli</td>\n",
       "    </tr>\n",
       "    <tr>\n",
       "      <th>5</th>\n",
       "      <td>Moneeb</td>\n",
       "      <td>67</td>\n",
       "      <td>Rawalakot</td>\n",
       "    </tr>\n",
       "    <tr>\n",
       "      <th>6</th>\n",
       "      <td>Moneeb</td>\n",
       "      <td>12</td>\n",
       "      <td>Muzaffarabad</td>\n",
       "    </tr>\n",
       "    <tr>\n",
       "      <th>7</th>\n",
       "      <td>Moneeb</td>\n",
       "      <td>76</td>\n",
       "      <td>Pindi</td>\n",
       "    </tr>\n",
       "    <tr>\n",
       "      <th>8</th>\n",
       "      <td>Moneeb</td>\n",
       "      <td>78</td>\n",
       "      <td>Pounch</td>\n",
       "    </tr>\n",
       "  </tbody>\n",
       "</table>\n",
       "</div>"
      ],
      "text/plain": [
       "     Name  Age          City\n",
       "0  Moneeb   28      New York\n",
       "1  Moneeb   25   Los Angeles\n",
       "2  Moneeb   32       Chicago\n",
       "3  Moneeb   30       Houston\n",
       "4  Moneeb   40         kotli\n",
       "5  Moneeb   67     Rawalakot\n",
       "6  Moneeb   12  Muzaffarabad\n",
       "7  Moneeb   76         Pindi\n",
       "8  Moneeb   78        Pounch"
      ]
     },
     "execution_count": 21,
     "metadata": {},
     "output_type": "execute_result"
    }
   ],
   "source": [
    "df"
   ]
  },
  {
   "cell_type": "markdown",
   "id": "d8c1197f-986f-462a-9e69-b9bb30f334f2",
   "metadata": {},
   "source": [
    "# Setting index"
   ]
  },
  {
   "cell_type": "code",
   "execution_count": 26,
   "id": "c54f52b3-34f7-4404-8028-9094983da6b1",
   "metadata": {},
   "outputs": [],
   "source": [
    "df.set_index('Name',inplace = True)"
   ]
  },
  {
   "cell_type": "code",
   "execution_count": 27,
   "id": "b308e41f-b6f9-4e9a-b006-205fba1ac076",
   "metadata": {},
   "outputs": [
    {
     "data": {
      "text/html": [
       "<div>\n",
       "<style scoped>\n",
       "    .dataframe tbody tr th:only-of-type {\n",
       "        vertical-align: middle;\n",
       "    }\n",
       "\n",
       "    .dataframe tbody tr th {\n",
       "        vertical-align: top;\n",
       "    }\n",
       "\n",
       "    .dataframe thead th {\n",
       "        text-align: right;\n",
       "    }\n",
       "</style>\n",
       "<table border=\"1\" class=\"dataframe\">\n",
       "  <thead>\n",
       "    <tr style=\"text-align: right;\">\n",
       "      <th></th>\n",
       "      <th>Age</th>\n",
       "      <th>City</th>\n",
       "    </tr>\n",
       "    <tr>\n",
       "      <th>Name</th>\n",
       "      <th></th>\n",
       "      <th></th>\n",
       "    </tr>\n",
       "  </thead>\n",
       "  <tbody>\n",
       "    <tr>\n",
       "      <th>Moneeb</th>\n",
       "      <td>28</td>\n",
       "      <td>New York</td>\n",
       "    </tr>\n",
       "    <tr>\n",
       "      <th>Moneeb</th>\n",
       "      <td>25</td>\n",
       "      <td>Los Angeles</td>\n",
       "    </tr>\n",
       "    <tr>\n",
       "      <th>Moneeb</th>\n",
       "      <td>32</td>\n",
       "      <td>Chicago</td>\n",
       "    </tr>\n",
       "    <tr>\n",
       "      <th>Moneeb</th>\n",
       "      <td>30</td>\n",
       "      <td>Houston</td>\n",
       "    </tr>\n",
       "    <tr>\n",
       "      <th>Moneeb</th>\n",
       "      <td>40</td>\n",
       "      <td>kotli</td>\n",
       "    </tr>\n",
       "    <tr>\n",
       "      <th>Moneeb</th>\n",
       "      <td>67</td>\n",
       "      <td>Rawalakot</td>\n",
       "    </tr>\n",
       "    <tr>\n",
       "      <th>Moneeb</th>\n",
       "      <td>12</td>\n",
       "      <td>Muzaffarabad</td>\n",
       "    </tr>\n",
       "    <tr>\n",
       "      <th>Moneeb</th>\n",
       "      <td>76</td>\n",
       "      <td>Pindi</td>\n",
       "    </tr>\n",
       "    <tr>\n",
       "      <th>Moneeb</th>\n",
       "      <td>78</td>\n",
       "      <td>Pounch</td>\n",
       "    </tr>\n",
       "  </tbody>\n",
       "</table>\n",
       "</div>"
      ],
      "text/plain": [
       "        Age          City\n",
       "Name                     \n",
       "Moneeb   28      New York\n",
       "Moneeb   25   Los Angeles\n",
       "Moneeb   32       Chicago\n",
       "Moneeb   30       Houston\n",
       "Moneeb   40         kotli\n",
       "Moneeb   67     Rawalakot\n",
       "Moneeb   12  Muzaffarabad\n",
       "Moneeb   76         Pindi\n",
       "Moneeb   78        Pounch"
      ]
     },
     "execution_count": 27,
     "metadata": {},
     "output_type": "execute_result"
    }
   ],
   "source": [
    "df"
   ]
  },
  {
   "cell_type": "markdown",
   "id": "d862be75-8c38-4d58-9211-67f3b9846507",
   "metadata": {},
   "source": [
    "# Reset the index"
   ]
  },
  {
   "cell_type": "code",
   "execution_count": 30,
   "id": "fa96b7f3-1f8e-48eb-a5ec-395ac6d3a552",
   "metadata": {},
   "outputs": [],
   "source": [
    "df.reset_index('Name',inplace = True)"
   ]
  },
  {
   "cell_type": "code",
   "execution_count": 31,
   "id": "d8c7a16a-7470-4b9a-9395-12d447eba0e7",
   "metadata": {},
   "outputs": [
    {
     "data": {
      "text/html": [
       "<div>\n",
       "<style scoped>\n",
       "    .dataframe tbody tr th:only-of-type {\n",
       "        vertical-align: middle;\n",
       "    }\n",
       "\n",
       "    .dataframe tbody tr th {\n",
       "        vertical-align: top;\n",
       "    }\n",
       "\n",
       "    .dataframe thead th {\n",
       "        text-align: right;\n",
       "    }\n",
       "</style>\n",
       "<table border=\"1\" class=\"dataframe\">\n",
       "  <thead>\n",
       "    <tr style=\"text-align: right;\">\n",
       "      <th></th>\n",
       "      <th>Name</th>\n",
       "      <th>Age</th>\n",
       "      <th>City</th>\n",
       "    </tr>\n",
       "  </thead>\n",
       "  <tbody>\n",
       "    <tr>\n",
       "      <th>0</th>\n",
       "      <td>Moneeb</td>\n",
       "      <td>28</td>\n",
       "      <td>New York</td>\n",
       "    </tr>\n",
       "    <tr>\n",
       "      <th>1</th>\n",
       "      <td>Moneeb</td>\n",
       "      <td>25</td>\n",
       "      <td>Los Angeles</td>\n",
       "    </tr>\n",
       "    <tr>\n",
       "      <th>2</th>\n",
       "      <td>Moneeb</td>\n",
       "      <td>32</td>\n",
       "      <td>Chicago</td>\n",
       "    </tr>\n",
       "    <tr>\n",
       "      <th>3</th>\n",
       "      <td>Moneeb</td>\n",
       "      <td>30</td>\n",
       "      <td>Houston</td>\n",
       "    </tr>\n",
       "    <tr>\n",
       "      <th>4</th>\n",
       "      <td>Moneeb</td>\n",
       "      <td>40</td>\n",
       "      <td>kotli</td>\n",
       "    </tr>\n",
       "    <tr>\n",
       "      <th>5</th>\n",
       "      <td>Moneeb</td>\n",
       "      <td>67</td>\n",
       "      <td>Rawalakot</td>\n",
       "    </tr>\n",
       "    <tr>\n",
       "      <th>6</th>\n",
       "      <td>Moneeb</td>\n",
       "      <td>12</td>\n",
       "      <td>Muzaffarabad</td>\n",
       "    </tr>\n",
       "    <tr>\n",
       "      <th>7</th>\n",
       "      <td>Moneeb</td>\n",
       "      <td>76</td>\n",
       "      <td>Pindi</td>\n",
       "    </tr>\n",
       "    <tr>\n",
       "      <th>8</th>\n",
       "      <td>Moneeb</td>\n",
       "      <td>78</td>\n",
       "      <td>Pounch</td>\n",
       "    </tr>\n",
       "  </tbody>\n",
       "</table>\n",
       "</div>"
      ],
      "text/plain": [
       "     Name  Age          City\n",
       "0  Moneeb   28      New York\n",
       "1  Moneeb   25   Los Angeles\n",
       "2  Moneeb   32       Chicago\n",
       "3  Moneeb   30       Houston\n",
       "4  Moneeb   40         kotli\n",
       "5  Moneeb   67     Rawalakot\n",
       "6  Moneeb   12  Muzaffarabad\n",
       "7  Moneeb   76         Pindi\n",
       "8  Moneeb   78        Pounch"
      ]
     },
     "execution_count": 31,
     "metadata": {},
     "output_type": "execute_result"
    }
   ],
   "source": [
    "df"
   ]
  },
  {
   "cell_type": "code",
   "execution_count": null,
   "id": "c92b46bf-d0c0-4f78-968a-7a414d9099af",
   "metadata": {},
   "outputs": [],
   "source": []
  }
 ],
 "metadata": {
  "kernelspec": {
   "display_name": "Python 3 (ipykernel)",
   "language": "python",
   "name": "python3"
  },
  "language_info": {
   "codemirror_mode": {
    "name": "ipython",
    "version": 3
   },
   "file_extension": ".py",
   "mimetype": "text/x-python",
   "name": "python",
   "nbconvert_exporter": "python",
   "pygments_lexer": "ipython3",
   "version": "3.11.7"
  }
 },
 "nbformat": 4,
 "nbformat_minor": 5
}
