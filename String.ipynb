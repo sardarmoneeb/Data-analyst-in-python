{
 "cells": [
  {
   "cell_type": "markdown",
   "id": "9e75d080-9b8b-42e1-935d-0971e6b5817d",
   "metadata": {},
   "source": [
    "# String in python"
   ]
  },
  {
   "cell_type": "code",
   "execution_count": 1,
   "id": "bd1f9230-5b35-4c90-bdaf-6ce192d1b113",
   "metadata": {},
   "outputs": [
    {
     "name": "stdout",
     "output_type": "stream",
     "text": [
      "Assalamualokum Everyone\n",
      "<class 'str'>\n"
     ]
    }
   ],
   "source": [
    "a = \"Assalamualikum Everyone\"\n",
    "print(a)\n",
    "print(type(a))"
   ]
  },
  {
   "cell_type": "code",
   "execution_count": 2,
   "id": "f8b8ab46-2d4c-4405-b792-486caceb74f6",
   "metadata": {},
   "outputs": [
    {
     "name": "stdout",
     "output_type": "stream",
     "text": [
      "Assalamualikum Everyone\n"
     ]
    }
   ],
   "source": [
    "a = 'Assalamualikum Everyone'\n",
    "print(a)"
   ]
  },
  {
   "cell_type": "code",
   "execution_count": 4,
   "id": "9fceb8ee-d684-4cf0-8c75-4819c67e3130",
   "metadata": {},
   "outputs": [
    {
     "name": "stdout",
     "output_type": "stream",
     "text": [
      "Assalamualikum Everyone\n"
     ]
    }
   ],
   "source": [
    "a = '''Assalamualikum Everyone'''\n",
    "print(a)"
   ]
  },
  {
   "cell_type": "code",
   "execution_count": 10,
   "id": "e90f495b-b12f-4416-94d4-e75d8857985a",
   "metadata": {},
   "outputs": [
    {
     "name": "stdout",
     "output_type": "stream",
     "text": [
      "Azad Jammu and Kashmir[a] abbreviated as AJK and colloquially referred to as simply Azad Kashmir,is a region administered by Pakistan as a nominally self-governing entity[9] and constituting the western portion of the larger Kashmir region, which has been the subject of a dispute between India and Pakistan since 1947.[1] Azad Kashmir also shares borders with the Pakistani provinces of Punjab and Khyber Pakhtunkhwa to the south and west, respectively. On its eastern side, Azad Kashmir is separated from the Indian union territory of Jammu and Kashmir (part of Indian-administered Kashmir) by the Line of Control (LoC), which serves as the de facto border between the Indian- and Pakistani-controlled parts of Kashmir. Geographically, it covers a total area of 13,297 km2 (5,134 sq mi) and has a total population of 4,045,366 as per the 2017 national census.\n"
     ]
    }
   ],
   "source": [
    "a = \"Azad Jammu and Kashmir[a] abbreviated as AJK and colloquially referred to as simply Azad Kashmir,is a region administered by Pakistan as a nominally self-governing entity[9] and constituting the western portion of the larger Kashmir region, which has been the subject of a dispute between India and Pakistan since 1947.[1] Azad Kashmir also shares borders with the Pakistani provinces of Punjab and Khyber Pakhtunkhwa to the south and west, respectively. On its eastern side, Azad Kashmir is separated from the Indian union territory of Jammu and Kashmir (part of Indian-administered Kashmir) by the Line of Control (LoC), which serves as the de facto border between the Indian- and Pakistani-controlled parts of Kashmir. Geographically, it covers a total area of 13,297 km2 (5,134 sq mi) and has a total population of 4,045,366 as per the 2017 national census.\"\n",
    "print(a)"
   ]
  },
  {
   "cell_type": "code",
   "execution_count": 29,
   "id": "8d291122-0195-45e5-9913-44d0c3852c43",
   "metadata": {},
   "outputs": [
    {
     "name": "stdout",
     "output_type": "stream",
     "text": [
      "Azad Jammu and Kashmir[a] abbreviated as AJK and colloquially referred to as simply Azad Kashmir,\n",
      "is a region administered by Pakistan as a nominally self-governing entity[9] and constituting the western portion\n",
      "of the larger Kashmir region, which has been the subject of a dispute between India and Pakistan since 1947.[1] \n",
      "Azad Kashmir also shares borders with the Pakistani provinces of Punjab and Khyber Pakhtunkhwa to the south and west,\n",
      "respectively. On its eastern side, Azad Kashmir is separated from the Indian union territory of Jammu and Kashmir \n",
      "(part of Indian-administered Kashmir) by the Line of Control (LoC), which serves as the de facto border between the \n",
      "Indian- and Pakistani-controlled parts of Kashmir. Geographically, it covers a total area of 13,297 km2 (5,134 sq mi) and \n",
      "has a total population of 4,045,366 as per the 2017 national census.  \n",
      "The length of paragraph is 868\n"
     ]
    }
   ],
   "source": [
    "a = '''Azad Jammu and Kashmir[a] abbreviated as AJK and colloquially referred to as simply Azad Kashmir,\n",
    "is a region administered by Pakistan as a nominally self-governing entity[9] and constituting the western portion\n",
    "of the larger Kashmir region, which has been the subject of a dispute between India and Pakistan since 1947.[1] \n",
    "Azad Kashmir also shares borders with the Pakistani provinces of Punjab and Khyber Pakhtunkhwa to the south and west,\n",
    "respectively. On its eastern side, Azad Kashmir is separated from the Indian union territory of Jammu and Kashmir \n",
    "(part of Indian-administered Kashmir) by the Line of Control (LoC), which serves as the de facto border between the \n",
    "Indian- and Pakistani-controlled parts of Kashmir. Geographically, it covers a total area of 13,297 km2 (5,134 sq mi) and \n",
    "has a total population of 4,045,366 as per the 2017 national census.  '''\n",
    "print(a)\n",
    "print(\"The length of paragraph is\",len(a))"
   ]
  },
  {
   "cell_type": "markdown",
   "id": "645a61a4-d28e-47f6-9027-044790fc78e1",
   "metadata": {},
   "source": [
    "# Indexing of string"
   ]
  },
  {
   "cell_type": "code",
   "execution_count": 12,
   "id": "c5483263-cbab-4c14-9c6a-6d54cef1e32f",
   "metadata": {},
   "outputs": [
    {
     "name": "stdout",
     "output_type": "stream",
     "text": [
      "A\n"
     ]
    }
   ],
   "source": [
    "x = \"Assalamualikum Everyone\"\n",
    "print(x[0])"
   ]
  },
  {
   "cell_type": "code",
   "execution_count": 13,
   "id": "3f7e807b-e46a-40bd-b103-ae3c6806a0e9",
   "metadata": {},
   "outputs": [
    {
     "name": "stdout",
     "output_type": "stream",
     "text": [
      "u\n"
     ]
    }
   ],
   "source": [
    "x = \"Assalamualikum Everyone\"\n",
    "print(x[7])"
   ]
  },
  {
   "cell_type": "code",
   "execution_count": 14,
   "id": "ef3d2c32-595c-463b-9d59-4e7583fc4445",
   "metadata": {},
   "outputs": [
    {
     "name": "stdout",
     "output_type": "stream",
     "text": [
      "o\n"
     ]
    }
   ],
   "source": [
    "x = \"Assalamualikum Everyone\"\n",
    "print(x[-3])"
   ]
  },
  {
   "cell_type": "markdown",
   "id": "0a887950-d35d-4e52-a538-22d87375009f",
   "metadata": {},
   "source": [
    "# Slices of string"
   ]
  },
  {
   "cell_type": "code",
   "execution_count": 16,
   "id": "a648e41d-13c7-4b2e-a7ba-5a3aa3e27b58",
   "metadata": {},
   "outputs": [
    {
     "name": "stdout",
     "output_type": "stream",
     "text": [
      "students how\n"
     ]
    }
   ],
   "source": [
    "a = \"Hello students how are you ?\"\n",
    "print(a[6:18])"
   ]
  },
  {
   "cell_type": "code",
   "execution_count": 20,
   "id": "61e0c181-da04-4a3f-afb4-399bc9ce1b98",
   "metadata": {},
   "outputs": [
    {
     "name": "stdout",
     "output_type": "stream",
     "text": [
      "Claaaas \n"
     ]
    }
   ],
   "source": [
    "s = \"Claaaas shut up!\"\n",
    "print(s[0:8])"
   ]
  },
  {
   "cell_type": "code",
   "execution_count": 24,
   "id": "970b6795-bd92-4a55-bcd1-47d15d00761e",
   "metadata": {},
   "outputs": [
    {
     "name": "stdout",
     "output_type": "stream",
     "text": [
      "Hlsdth eo?\n"
     ]
    }
   ],
   "source": [
    "a = \"Hello students how are you ?\" \n",
    "print(a[0:28:3]) # syntax is Start:End:step/Skip(Always write an extra if skip one word write 2 in skip step )"
   ]
  },
  {
   "cell_type": "code",
   "execution_count": 27,
   "id": "d756babe-9ce5-45ac-b6eb-89d30a9ec3b8",
   "metadata": {},
   "outputs": [
    {
     "name": "stdout",
     "output_type": "stream",
     "text": [
      "? uoy era woh stneduts olleH\n"
     ]
    }
   ],
   "source": [
    "a = \"Hello students how are you ?\" \n",
    "print(a[: : -1]) # Print a in reverse order"
   ]
  },
  {
   "cell_type": "markdown",
   "id": "e6ed2c0a-1fb0-4a45-97e9-b641b927a7ca",
   "metadata": {},
   "source": [
    "# Finding length of string"
   ]
  },
  {
   "cell_type": "code",
   "execution_count": 33,
   "id": "3aec19f4-c63e-4c53-a42a-0f14911bc876",
   "metadata": {},
   "outputs": [
    {
     "name": "stdout",
     "output_type": "stream",
     "text": [
      "Hello how are you ?\n",
      "The length of a is 19\n"
     ]
    }
   ],
   "source": [
    "a = \"Hello how are you ?\"\n",
    "print(a)\n",
    "print(\"The length of a is\",len(a))\n"
   ]
  },
  {
   "cell_type": "markdown",
   "id": "46cbc804-5c69-4546-ad1c-1ab7c7856db2",
   "metadata": {},
   "source": [
    "# Upper method"
   ]
  },
  {
   "cell_type": "code",
   "execution_count": 34,
   "id": "8997e129-e94f-4a61-81d5-bc926e5f0373",
   "metadata": {},
   "outputs": [
    {
     "name": "stdout",
     "output_type": "stream",
     "text": [
      "WELCOME TO AZAD JAMMU AND KASHMIR\n"
     ]
    }
   ],
   "source": [
    "a = \"welcome to azad jammu and kashmir\"\n",
    "print(a.upper())"
   ]
  },
  {
   "cell_type": "markdown",
   "id": "b57533c7-4f31-44d9-a4ef-24f06e449bbe",
   "metadata": {},
   "source": [
    "# Lower method"
   ]
  },
  {
   "cell_type": "code",
   "execution_count": 35,
   "id": "66378ed9-78a7-4fc7-9ee1-55f88360c52a",
   "metadata": {},
   "outputs": [
    {
     "name": "stdout",
     "output_type": "stream",
     "text": [
      "welcome to azad jammu and kashmir\n"
     ]
    }
   ],
   "source": [
    "b = \"WELCOME TO AZAD JAMMU AND KASHMIR\"\n",
    "print(b.lower())"
   ]
  },
  {
   "cell_type": "markdown",
   "id": "01094214-eb9e-4bf6-aeaf-d9f3dcaba85b",
   "metadata": {},
   "source": [
    "# Replace Function"
   ]
  },
  {
   "cell_type": "code",
   "execution_count": 37,
   "id": "0d1a9273-d971-41f9-b5e9-0815ee97ad18",
   "metadata": {},
   "outputs": [
    {
     "name": "stdout",
     "output_type": "stream",
     "text": [
      "Hello how are you ?\n",
      "HELLO HOW ARE YOU ?\n",
      "19\n",
      "\n",
      "Assalamualikum how are you ?\n"
     ]
    }
   ],
   "source": [
    "a = \"Hello how are you ?\"\n",
    "print(a)\n",
    "print(a.upper())\n",
    "print(len(a))\n",
    "print()\n",
    "print(a.replace(\"Hello\",\"Assalamualikum\"))"
   ]
  },
  {
   "cell_type": "markdown",
   "id": "5fad579b-6e8c-449d-abbf-f14849bbb8f7",
   "metadata": {},
   "source": [
    "# Find method"
   ]
  },
  {
   "cell_type": "code",
   "execution_count": 41,
   "id": "9fb058fd-2aa6-4b65-94b5-1f52b23e711e",
   "metadata": {},
   "outputs": [
    {
     "name": "stdout",
     "output_type": "stream",
     "text": [
      "5\n"
     ]
    }
   ],
   "source": [
    "a = \"python is easy lanuage\"\n",
    "b = a.find(\"n\")\n",
    "print(b)"
   ]
  },
  {
   "cell_type": "markdown",
   "id": "bfad3d3f-ad76-46f7-9686-6163e2d9da5c",
   "metadata": {},
   "source": [
    "# Format method"
   ]
  },
  {
   "cell_type": "code",
   "execution_count": 42,
   "id": "98d42737-53c5-4152-a372-37d4ce8b99d4",
   "metadata": {},
   "outputs": [
    {
     "name": "stdout",
     "output_type": "stream",
     "text": [
      "My name is Alice and I am 30 years old.\n"
     ]
    }
   ],
   "source": [
    "name = \"Alice\"\n",
    "age = 30\n",
    "formatted_string = \"My name is {} and I am {} years old.\".format(name, age)\n",
    "print(formatted_string)\n"
   ]
  },
  {
   "cell_type": "code",
   "execution_count": 43,
   "id": "e065c760-7aed-47cb-8828-5a1165844a45",
   "metadata": {},
   "outputs": [
    {
     "name": "stdout",
     "output_type": "stream",
     "text": [
      "7\n"
     ]
    }
   ],
   "source": [
    "string = \"Hello, World!\"\n",
    "position = string.find(\"World\")\n",
    "print(position)\n"
   ]
  },
  {
   "cell_type": "markdown",
   "id": "86062186-b3bc-4ee1-96cc-62491d369534",
   "metadata": {},
   "source": [
    "# Count words"
   ]
  },
  {
   "cell_type": "code",
   "execution_count": 2,
   "id": "d7a2ec64-fdac-4df7-9fa4-aad01d0a5776",
   "metadata": {},
   "outputs": [
    {
     "name": "stdout",
     "output_type": "stream",
     "text": [
      "2\n"
     ]
    }
   ],
   "source": [
    "string = \"Hello, World!\"\n",
    "count = string.count(\"o\")\n",
    "print(count)\n"
   ]
  },
  {
   "cell_type": "code",
   "execution_count": 10,
   "id": "d243bf53-07f5-4529-8946-092ba24a5994",
   "metadata": {},
   "outputs": [
    {
     "name": "stdout",
     "output_type": "stream",
     "text": [
      "['python', 'is', 'an', 'easy', 'language']\n"
     ]
    }
   ],
   "source": [
    "a = \"python is an easy language\"\n",
    "b = a.split()\n",
    "print(b)"
   ]
  },
  {
   "cell_type": "code",
   "execution_count": 17,
   "id": "c12c29f1-57fb-431b-9bd5-be2b39b99f33",
   "metadata": {},
   "outputs": [
    {
     "name": "stdout",
     "output_type": "stream",
     "text": [
      "['Hello', 'how', 'are', 'you']\n"
     ]
    }
   ],
   "source": [
    "x = \"Hello how are you\"\n",
    "b = x.split()\n",
    "#c = b.join()\n",
    "print(b)\n",
    "#print(c)"
   ]
  },
  {
   "cell_type": "code",
   "execution_count": 21,
   "id": "a8a0c448-a8f7-4bf1-b77b-88f3c54246c8",
   "metadata": {},
   "outputs": [
    {
     "name": "stdout",
     "output_type": "stream",
     "text": [
      "Hello how are you\n"
     ]
    }
   ],
   "source": [
    "a = 'Hello','how','are','you'\n",
    "b = \" \".join(a)\n",
    "print(b)"
   ]
  },
  {
   "cell_type": "code",
   "execution_count": 22,
   "id": "708a5c3b-757f-4078-be0e-00ed24aae67a",
   "metadata": {},
   "outputs": [
    {
     "name": "stdout",
     "output_type": "stream",
     "text": [
      "['banana', 'apple', 'orange']\n"
     ]
    }
   ],
   "source": [
    "string = \"banana,apple,orange\"\n",
    "fruits = string.split(\",\")\n",
    "print(fruits)"
   ]
  },
  {
   "cell_type": "code",
   "execution_count": 25,
   "id": "6684224a-c198-4b8b-ad13-92aa2eb26812",
   "metadata": {},
   "outputs": [
    {
     "name": "stdout",
     "output_type": "stream",
     "text": [
      "Banana Apple Orange\n"
     ]
    }
   ],
   "source": [
    "a = ['Banana', 'Apple', 'Orange']\n",
    "b = \" \".join(a)\n",
    "print(b)"
   ]
  },
  {
   "cell_type": "code",
   "execution_count": 26,
   "id": "f1d4c7d7-a5e7-4c19-9079-85411b5cbf21",
   "metadata": {},
   "outputs": [
    {
     "name": "stdout",
     "output_type": "stream",
     "text": [
      "H\n",
      "e\n",
      "l\n",
      "l\n",
      "o\n",
      ",\n",
      " \n",
      "W\n",
      "o\n",
      "r\n",
      "l\n",
      "d\n",
      "!\n"
     ]
    }
   ],
   "source": [
    "string = \"Hello, World!\"\n",
    "\n",
    "# Using a for loop to iterate over each character\n",
    "for char in string:\n",
    "    print(char)\n"
   ]
  },
  {
   "cell_type": "code",
   "execution_count": 27,
   "id": "72b280de-1534-4a55-9c37-d0c1917792a9",
   "metadata": {},
   "outputs": [
    {
     "name": "stdout",
     "output_type": "stream",
     "text": [
      "P\n",
      "y\n",
      "t\n",
      "h\n",
      "o\n",
      "n\n",
      " \n",
      "i\n",
      "s\n",
      " \n",
      "a\n",
      "n\n",
      " \n",
      "e\n",
      "a\n",
      "s\n",
      "y\n",
      " \n",
      "l\n",
      "a\n",
      "n\n",
      "g\n",
      "u\n",
      "a\n",
      "g\n",
      "e\n"
     ]
    }
   ],
   "source": [
    "a = \"Python is an easy language\"\n",
    "for char in a:\n",
    "    print(char)"
   ]
  },
  {
   "cell_type": "code",
   "execution_count": 33,
   "id": "ac0fd797-0631-439b-9141-08d93239494c",
   "metadata": {},
   "outputs": [
    {
     "name": "stdout",
     "output_type": "stream",
     "text": [
      "['P', 'Y', 'T', 'H', 'O', 'N', ' ', 'I', 'S', ' ', 'A', 'N', ' ', 'E', 'A', 'S', 'Y', ' ', 'L', 'A', 'N', 'G', 'U', 'A', 'G', 'E']\n"
     ]
    }
   ],
   "source": [
    "a = \"Python is an easy language\"\n",
    "uppercase_char_list = [char.upper() for char in a]\n",
    "print(uppercase_char_list)"
   ]
  },
  {
   "cell_type": "code",
   "execution_count": 34,
   "id": "b35793af-91fe-484c-94e9-e7d2e251181f",
   "metadata": {},
   "outputs": [
    {
     "name": "stdout",
     "output_type": "stream",
     "text": [
      "['p', 'y', 't', 'h', 'o', 'n', ' ', 'i', 's', ' ', 'a', 'n', ' ', 'e', 'a', 's', 'y', ' ', 'l', 'a', 'n', 'g', 'u', 'a', 'g', 'e']\n"
     ]
    }
   ],
   "source": [
    "a = \"Python is an easy language\"\n",
    "uppercase_char_list = [char.lower() for char in a]\n",
    "print(uppercase_char_list)"
   ]
  },
  {
   "cell_type": "code",
   "execution_count": null,
   "id": "4171ec4f-adf2-498f-9440-7c8e44677ebb",
   "metadata": {},
   "outputs": [],
   "source": []
  }
 ],
 "metadata": {
  "kernelspec": {
   "display_name": "Python 3 (ipykernel)",
   "language": "python",
   "name": "python3"
  },
  "language_info": {
   "codemirror_mode": {
    "name": "ipython",
    "version": 3
   },
   "file_extension": ".py",
   "mimetype": "text/x-python",
   "name": "python",
   "nbconvert_exporter": "python",
   "pygments_lexer": "ipython3",
   "version": "3.11.7"
  }
 },
 "nbformat": 4,
 "nbformat_minor": 5
}
