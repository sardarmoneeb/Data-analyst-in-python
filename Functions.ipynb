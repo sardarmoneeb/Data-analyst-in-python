{
 "cells": [
  {
   "cell_type": "code",
   "execution_count": 1,
   "id": "0cb2bd4f-2f49-4600-b66d-52e931a0e95a",
   "metadata": {},
   "outputs": [
    {
     "name": "stdout",
     "output_type": "stream",
     "text": [
      "67\n"
     ]
    }
   ],
   "source": [
    "x = abs(-67)\n",
    "print(x)"
   ]
  },
  {
   "cell_type": "code",
   "execution_count": 2,
   "id": "b0275751-74d5-4293-a25f-32af7e8e6da3",
   "metadata": {},
   "outputs": [
    {
     "name": "stdout",
     "output_type": "stream",
     "text": [
      "87.56\n"
     ]
    }
   ],
   "source": [
    "x = float(87.56)\n",
    "print(x)"
   ]
  },
  {
   "cell_type": "code",
   "execution_count": 3,
   "id": "e60185e2-c5c2-485c-88a3-005e80a3a2b5",
   "metadata": {},
   "outputs": [
    {
     "name": "stdout",
     "output_type": "stream",
     "text": [
      "87.0\n"
     ]
    }
   ],
   "source": [
    "x = float(87)\n",
    "print(x)"
   ]
  },
  {
   "cell_type": "code",
   "execution_count": 7,
   "id": "53408a33-6919-459d-bec2-adb1cbbac225",
   "metadata": {},
   "outputs": [
    {
     "name": "stdout",
     "output_type": "stream",
     "text": [
      "87\n"
     ]
    }
   ],
   "source": [
    "x = int(87.98)\n",
    "print(x)"
   ]
  },
  {
   "cell_type": "code",
   "execution_count": 8,
   "id": "b3fd6ed3-e361-4351-a728-b8c4fed4c9e8",
   "metadata": {},
   "outputs": [
    {
     "name": "stdout",
     "output_type": "stream",
     "text": [
      "c\n"
     ]
    }
   ],
   "source": [
    "x = chr(99)\n",
    "print(x)"
   ]
  },
  {
   "cell_type": "code",
   "execution_count": 11,
   "id": "5a551c9f-a208-4bba-95c4-85fe515ef5d3",
   "metadata": {},
   "outputs": [
    {
     "name": "stdin",
     "output_type": "stream",
     "text": [
      "Enter your name moneeb\n"
     ]
    },
    {
     "name": "stdout",
     "output_type": "stream",
     "text": [
      "Hello moneeb\n"
     ]
    }
   ],
   "source": [
    "a = input(\"Enter your name\")\n",
    "print(\"Hello\",a)"
   ]
  },
  {
   "cell_type": "code",
   "execution_count": 12,
   "id": "dc718980-b160-46a6-b640-99d8b1534d1c",
   "metadata": {},
   "outputs": [
    {
     "name": "stdin",
     "output_type": "stream",
     "text": [
      "Enter Your age 78\n"
     ]
    },
    {
     "name": "stdout",
     "output_type": "stream",
     "text": [
      "Your age is 78\n"
     ]
    }
   ],
   "source": [
    "b = input(\"Enter Your age\")\n",
    "print(\"Your age is\",b)"
   ]
  },
  {
   "cell_type": "code",
   "execution_count": 13,
   "id": "b3753b94-c263-489a-b9d9-430f5a62939a",
   "metadata": {},
   "outputs": [
    {
     "name": "stdin",
     "output_type": "stream",
     "text": [
      "Enter your name kljgig\n"
     ]
    },
    {
     "name": "stdout",
     "output_type": "stream",
     "text": [
      "Hello kljgig\n"
     ]
    },
    {
     "name": "stdin",
     "output_type": "stream",
     "text": [
      "Enter Your age 89\n"
     ]
    },
    {
     "name": "stdout",
     "output_type": "stream",
     "text": [
      "Your age is 89\n"
     ]
    }
   ],
   "source": [
    "a = input(\"Enter your name\")\n",
    "print(\"Hello\",a)\n",
    "b = input(\"Enter Your age\")\n",
    "print(\"Your age is\",b)"
   ]
  },
  {
   "cell_type": "code",
   "execution_count": null,
   "id": "4bc55726-563b-4b45-a70a-63c952a2facf",
   "metadata": {},
   "outputs": [],
   "source": []
  }
 ],
 "metadata": {
  "kernelspec": {
   "display_name": "Python 3 (ipykernel)",
   "language": "python",
   "name": "python3"
  },
  "language_info": {
   "codemirror_mode": {
    "name": "ipython",
    "version": 3
   },
   "file_extension": ".py",
   "mimetype": "text/x-python",
   "name": "python",
   "nbconvert_exporter": "python",
   "pygments_lexer": "ipython3",
   "version": "3.11.7"
  }
 },
 "nbformat": 4,
 "nbformat_minor": 5
}
